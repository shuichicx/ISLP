{
  "nbformat": 4,
  "nbformat_minor": 0,
  "metadata": {
    "colab": {
      "provenance": []
    },
    "kernelspec": {
      "name": "python3",
      "display_name": "Python 3"
    },
    "language_info": {
      "name": "python"
    }
  },
  "cells": [
    {
      "cell_type": "code",
      "execution_count": 11,
      "metadata": {
        "id": "Z7pi_nyN2UFS"
      },
      "outputs": [],
      "source": [
        "import pandas as pd\n",
        "import numpy as np\n",
        "import matplotlib.pyplot as plt\n",
        "\n",
        "from tensorflow.keras.models import Sequential\n",
        "from tensorflow.keras.layers import Dense, Embedding, LSTM\n",
        "from tensorflow.keras.losses import BinaryCrossentropy\n",
        "from tensorflow.keras.activations import sigmoid\n",
        "from tensorflow.keras.optimizers.legacy import RMSprop\n",
        "from tensorflow.keras.datasets import imdb\n",
        "from tensorflow.keras.preprocessing.sequence import pad_sequences"
      ]
    },
    {
      "cell_type": "markdown",
      "source": [
        "### Sequential Models for Document Classification"
      ],
      "metadata": {
        "id": "P7blm8O79Yf-"
      }
    },
    {
      "cell_type": "code",
      "source": [
        "MAX_FEATURES = 10000\n",
        "INDEX_FROM = 3\n",
        "(X_train, y_train), (X_test, y_test) = imdb.load_data(num_words=MAX_FEATURES, index_from=INDEX_FROM)"
      ],
      "metadata": {
        "colab": {
          "base_uri": "https://localhost:8080/"
        },
        "id": "fg9j1JNp23Iv",
        "outputId": "8a824327-ef05-49ad-914b-b535d1d9e5dd"
      },
      "execution_count": 3,
      "outputs": [
        {
          "output_type": "stream",
          "name": "stdout",
          "text": [
            "Downloading data from https://storage.googleapis.com/tensorflow/tf-keras-datasets/imdb.npz\n",
            "17464789/17464789 [==============================] - 0s 0us/step\n"
          ]
        }
      ]
    },
    {
      "cell_type": "code",
      "source": [
        "wc = np.array([len(x) for x in X_train])\n",
        "\n",
        "median = np.median(wc)\n",
        "print(median)\n",
        "\n",
        "result = np.sum(wc <= 500) / len(wc)\n",
        "print(result)"
      ],
      "metadata": {
        "colab": {
          "base_uri": "https://localhost:8080/"
        },
        "id": "cYeNXo0-3TL5",
        "outputId": "f02436b1-a5ad-4f2b-fc3a-f82f79f44522"
      },
      "execution_count": 5,
      "outputs": [
        {
          "output_type": "stream",
          "name": "stdout",
          "text": [
            "178.0\n",
            "0.91568\n"
          ]
        }
      ]
    },
    {
      "cell_type": "markdown",
      "source": [
        "We see that over 91% of the documents have fewer than 500 words. Our RNN requires all the document sequences to have the same length. We hence restrict the document lengths to the last $L=500$, and pad the beginning of the shorter ones with blanks."
      ],
      "metadata": {
        "id": "VMvR-jJU4Drx"
      }
    },
    {
      "cell_type": "code",
      "source": [
        "maxlen = 500\n",
        "X_train = pad_sequences(X_train, maxlen=maxlen)\n",
        "X_test = pad_sequences(X_test, maxlen=maxlen)"
      ],
      "metadata": {
        "id": "GK9d-oKR38Dd"
      },
      "execution_count": 7,
      "outputs": []
    },
    {
      "cell_type": "code",
      "source": [
        "X_train.shape, X_test.shape"
      ],
      "metadata": {
        "colab": {
          "base_uri": "https://localhost:8080/"
        },
        "id": "_gbbbymE4nz6",
        "outputId": "8e65694f-3225-4071-96a3-7f738dd99123"
      },
      "execution_count": 8,
      "outputs": [
        {
          "output_type": "execute_result",
          "data": {
            "text/plain": [
              "((25000, 500), (25000, 500))"
            ]
          },
          "metadata": {},
          "execution_count": 8
        }
      ]
    },
    {
      "cell_type": "code",
      "source": [
        "X_train[0, 489:500]"
      ],
      "metadata": {
        "colab": {
          "base_uri": "https://localhost:8080/"
        },
        "id": "TTi22wcY4qCc",
        "outputId": "a41f38bd-67cb-4876-9851-85e1b75bdbdc"
      },
      "execution_count": 10,
      "outputs": [
        {
          "output_type": "execute_result",
          "data": {
            "text/plain": [
              "array([  16, 4472,  113,  103,   32,   15,   16, 5345,   19,  178,   32],\n",
              "      dtype=int32)"
            ]
          },
          "metadata": {},
          "execution_count": 10
        }
      ]
    },
    {
      "cell_type": "markdown",
      "source": [
        "The last expression shows the last few words in the first document. At this stage, each of the 500 words in the document is represented using an integer corresponding to the location of that word in the 10,000-word dictionary. The first layer of the RNN is an embedding layer of size 32, which will be learned during training. This layer one-hot encodes each document as a matrix of dimension $500 × 10,000$, and then maps these 10, 000 dimensions down to 32.\n"
      ],
      "metadata": {
        "id": "oaZR3BnZ4_cZ"
      }
    },
    {
      "cell_type": "code",
      "source": [
        "model = Sequential(\n",
        "    [\n",
        "        Embedding(input_dim=10000, output_dim=32),\n",
        "        LSTM(units=32),\n",
        "        Dense(units=1, activation='sigmoid')\n",
        "    ]\n",
        ")\n",
        "\n",
        "model.compile(\n",
        "    loss=BinaryCrossentropy(),\n",
        "    optimizer=RMSprop(),\n",
        "    metrics = ['acc']\n",
        ")"
      ],
      "metadata": {
        "id": "gqxyixWi4u8v"
      },
      "execution_count": 13,
      "outputs": []
    },
    {
      "cell_type": "code",
      "source": [
        "history = model.fit(X_train, y_train, epochs=10,\n",
        "                    batch_size=128, validation_data=(X_test, y_test))"
      ],
      "metadata": {
        "colab": {
          "base_uri": "https://localhost:8080/"
        },
        "id": "JKsYTGEy5a_0",
        "outputId": "539c9eee-f8aa-45ec-fc7e-72e6d77b64e5"
      },
      "execution_count": 14,
      "outputs": [
        {
          "output_type": "stream",
          "name": "stdout",
          "text": [
            "Epoch 1/10\n",
            "196/196 [==============================] - 106s 528ms/step - loss: 0.4872 - acc: 0.7707 - val_loss: 0.3056 - val_acc: 0.8754\n",
            "Epoch 2/10\n",
            "196/196 [==============================] - 114s 584ms/step - loss: 0.2798 - acc: 0.8898 - val_loss: 0.3449 - val_acc: 0.8583\n",
            "Epoch 3/10\n",
            "196/196 [==============================] - 112s 574ms/step - loss: 0.2310 - acc: 0.9122 - val_loss: 0.3936 - val_acc: 0.8663\n",
            "Epoch 4/10\n",
            "196/196 [==============================] - 113s 576ms/step - loss: 0.2040 - acc: 0.9246 - val_loss: 0.2955 - val_acc: 0.8804\n",
            "Epoch 5/10\n",
            "196/196 [==============================] - 115s 588ms/step - loss: 0.1792 - acc: 0.9341 - val_loss: 0.3192 - val_acc: 0.8703\n",
            "Epoch 6/10\n",
            "196/196 [==============================] - 113s 580ms/step - loss: 0.1608 - acc: 0.9423 - val_loss: 0.5762 - val_acc: 0.8295\n",
            "Epoch 7/10\n",
            "196/196 [==============================] - 93s 477ms/step - loss: 0.1518 - acc: 0.9458 - val_loss: 0.3183 - val_acc: 0.8742\n",
            "Epoch 8/10\n",
            "196/196 [==============================] - 114s 581ms/step - loss: 0.1378 - acc: 0.9523 - val_loss: 0.3303 - val_acc: 0.8732\n",
            "Epoch 9/10\n",
            "196/196 [==============================] - 93s 477ms/step - loss: 0.1308 - acc: 0.9546 - val_loss: 0.3695 - val_acc: 0.8691\n",
            "Epoch 10/10\n",
            "196/196 [==============================] - 118s 598ms/step - loss: 0.1219 - acc: 0.9576 - val_loss: 0.4292 - val_acc: 0.8617\n"
          ]
        }
      ]
    },
    {
      "cell_type": "code",
      "source": [
        "# Plotting Training Error and Validation Error on each epoch\n",
        "train_errors = history.history['loss']\n",
        "val_errors = history.history['val_loss']\n",
        "\n",
        "epochs = np.arange(1, len(train_errors)+1)\n",
        "plt.plot(epochs, train_errors, 'b-', label='Training Error')\n",
        "plt.plot(epochs, val_errors, 'r-', label='Validation Error')\n",
        "plt.xlabel('Epochs')\n",
        "plt.ylabel('Error')\n",
        "plt.title('Training and Validation Error')\n",
        "plt.legend()\n",
        "plt.show()"
      ],
      "metadata": {
        "colab": {
          "base_uri": "https://localhost:8080/",
          "height": 472
        },
        "id": "fmcDsPgE5qmF",
        "outputId": "b0b48db6-3e57-4f6d-d01d-25c30f108daa"
      },
      "execution_count": 15,
      "outputs": [
        {
          "output_type": "display_data",
          "data": {
            "text/plain": [
              "<Figure size 640x480 with 1 Axes>"
            ],
            "image/png": "[encoded data removed]"
          },
          "metadata": {}
        }
      ]
    },
    {
      "cell_type": "code",
      "source": [
        "model.evaluate(X_test, y_test)"
      ],
      "metadata": {
        "colab": {
          "base_uri": "https://localhost:8080/"
        },
        "id": "XBIvgiUV9wOz",
        "outputId": "fa104bf0-0668-4491-a060-7a1999ee06e7"
      },
      "execution_count": 16,
      "outputs": [
        {
          "output_type": "stream",
          "name": "stdout",
          "text": [
            "782/782 [==============================] - 42s 54ms/step - loss: 0.4292 - acc: 0.8617\n"
          ]
        },
        {
          "output_type": "execute_result",
          "data": {
            "text/plain": [
              "[0.42923280596733093, 0.8617200255393982]"
            ]
          },
          "metadata": {},
          "execution_count": 16
        }
      ]
    },
    {
      "cell_type": "markdown",
      "source": [
        "### Time Series Prediction\n",
        "\n",
        "Unfortunately, I was unable to access the NYSE dataset used in the time series prediction section of the ISLR book."
      ],
      "metadata": {
        "id": "s4bRLcz_7WAw"
      }
    }
  ]
}