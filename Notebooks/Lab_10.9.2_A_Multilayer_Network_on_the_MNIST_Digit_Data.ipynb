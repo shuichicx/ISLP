{
 "cells": [
  {
   "cell_type": "code",
   "execution_count": 1,
   "id": "1c41b7cd",
   "metadata": {},
   "outputs": [],
   "source": [
    "import pandas as pd\n",
    "import numpy as np\n",
    "import matplotlib.pyplot as plt\n",
    "from tensorflow.keras.models import Sequential\n",
    "from tensorflow.keras.layers import Dense, Dropout\n",
    "from tensorflow.keras.activations import relu, softmax\n",
    "from tensorflow.keras.losses import CategoricalCrossentropy\n",
    "from tensorflow.keras.optimizers.legacy import RMSprop\n",
    "from tensorflow.keras.datasets import mnist\n",
    "from tensorflow.keras.utils import to_categorical"
   ]
  },
  {
   "cell_type": "code",
   "execution_count": 2,
   "id": "89b2c584",
   "metadata": {
    "scrolled": true
   },
   "outputs": [
    {
     "name": "stdout",
     "output_type": "stream",
     "text": [
      "MNIST Dataset Shape:\n",
      "X_train: (60000, 28, 28)\n",
      "Y_train: (60000,)\n",
      "X_test:  (10000, 28, 28)\n",
      "Y_test:  (10000,)\n"
     ]
    }
   ],
   "source": [
    "(X_train, y_train), (X_test, y_test) = mnist.load_data()\n",
    "\n",
    "print('MNIST Dataset Shape:')\n",
    "print('X_train: ' + str(X_train.shape))\n",
    "print('Y_train: ' + str(y_train.shape))\n",
    "print('X_test:  '  + str(X_test.shape))\n",
    "print('Y_test:  '  + str(y_test.shape))"
   ]
  },
  {
   "cell_type": "markdown",
   "id": "138f8abd",
   "metadata": {},
   "source": [
    "The images are 28×28, and stored as a three-dimensional array, so we need to reshape them into a matrix. Also, we need to “one-hot” encode the class label."
   ]
  },
  {
   "cell_type": "code",
   "execution_count": 3,
   "id": "c784b60b",
   "metadata": {},
   "outputs": [],
   "source": [
    "X_train = np.reshape(X_train, (X_train.shape[0], 784))\n",
    "X_test = np.reshape(X_test, (X_test.shape[0], 784))\n",
    "\n",
    "y_train = to_categorical(y_train, num_classes=10)\n",
    "y_test = to_categorical(y_test, num_classes=10)"
   ]
  },
  {
   "cell_type": "code",
   "execution_count": 4,
   "id": "532cf176",
   "metadata": {},
   "outputs": [],
   "source": [
    "# Scaling the input values\n",
    "X_train = X_train / 255.0\n",
    "X_test = X_test / 255.0"
   ]
  },
  {
   "cell_type": "code",
   "execution_count": 5,
   "id": "0d31ae0d",
   "metadata": {},
   "outputs": [
    {
     "name": "stdout",
     "output_type": "stream",
     "text": [
      "Model: \"mnist_neural_network\"\n",
      "_________________________________________________________________\n",
      " Layer (type)                Output Shape              Param #   \n",
      "=================================================================\n",
      " dense (Dense)               (None, 256)               200960    \n",
      "                                                                 \n",
      " dropout (Dropout)           (None, 256)               0         \n",
      "                                                                 \n",
      " dense_1 (Dense)             (None, 128)               32896     \n",
      "                                                                 \n",
      " dropout_1 (Dropout)         (None, 128)               0         \n",
      "                                                                 \n",
      " dense_2 (Dense)             (None, 10)                1290      \n",
      "                                                                 \n",
      "=================================================================\n",
      "Total params: 235146 (918.54 KB)\n",
      "Trainable params: 235146 (918.54 KB)\n",
      "Non-trainable params: 0 (0.00 Byte)\n",
      "_________________________________________________________________\n"
     ]
    }
   ],
   "source": [
    "model = Sequential(\n",
    "    [\n",
    "        Dense(units=256, activation='relu', input_shape=(784, )),\n",
    "        Dropout(rate=0.4),\n",
    "        Dense(units=128, activation='relu'),\n",
    "        Dropout(rate=0.3),\n",
    "        Dense(units=10, activation='softmax')\n",
    "    ], name='mnist_neural_network'\n",
    ")\n",
    "\n",
    "model.summary()"
   ]
  },
  {
   "cell_type": "code",
   "execution_count": 6,
   "id": "c115dd9b",
   "metadata": {},
   "outputs": [
    {
     "name": "stdout",
     "output_type": "stream",
     "text": [
      "Epoch 1/30\n",
      "375/375 [==============================] - 1s 2ms/step - loss: 0.4269 - accuracy: 0.8706 - val_loss: 0.1645 - val_accuracy: 0.9503\n",
      "Epoch 2/30\n",
      "375/375 [==============================] - 1s 2ms/step - loss: 0.2010 - accuracy: 0.9396 - val_loss: 0.1198 - val_accuracy: 0.9640\n",
      "Epoch 3/30\n",
      "375/375 [==============================] - 1s 2ms/step - loss: 0.1555 - accuracy: 0.9538 - val_loss: 0.1050 - val_accuracy: 0.9698\n",
      "Epoch 4/30\n",
      "375/375 [==============================] - 1s 2ms/step - loss: 0.1299 - accuracy: 0.9612 - val_loss: 0.1077 - val_accuracy: 0.9699\n",
      "Epoch 5/30\n",
      "375/375 [==============================] - 1s 2ms/step - loss: 0.1152 - accuracy: 0.9657 - val_loss: 0.0952 - val_accuracy: 0.9722\n",
      "Epoch 6/30\n",
      "375/375 [==============================] - 1s 2ms/step - loss: 0.1051 - accuracy: 0.9690 - val_loss: 0.0948 - val_accuracy: 0.9754\n",
      "Epoch 7/30\n",
      "375/375 [==============================] - 1s 2ms/step - loss: 0.0973 - accuracy: 0.9715 - val_loss: 0.0927 - val_accuracy: 0.9758\n",
      "Epoch 8/30\n",
      "375/375 [==============================] - 1s 2ms/step - loss: 0.0918 - accuracy: 0.9731 - val_loss: 0.0941 - val_accuracy: 0.9764\n",
      "Epoch 9/30\n",
      "375/375 [==============================] - 1s 2ms/step - loss: 0.0843 - accuracy: 0.9753 - val_loss: 0.0919 - val_accuracy: 0.9774\n",
      "Epoch 10/30\n",
      "375/375 [==============================] - 1s 2ms/step - loss: 0.0806 - accuracy: 0.9764 - val_loss: 0.0915 - val_accuracy: 0.9773\n",
      "Epoch 11/30\n",
      "375/375 [==============================] - 1s 2ms/step - loss: 0.0787 - accuracy: 0.9779 - val_loss: 0.0930 - val_accuracy: 0.9787\n",
      "Epoch 12/30\n",
      "375/375 [==============================] - 1s 2ms/step - loss: 0.0747 - accuracy: 0.9789 - val_loss: 0.0949 - val_accuracy: 0.9782\n",
      "Epoch 13/30\n",
      "375/375 [==============================] - 1s 2ms/step - loss: 0.0733 - accuracy: 0.9789 - val_loss: 0.0974 - val_accuracy: 0.9790\n",
      "Epoch 14/30\n",
      "375/375 [==============================] - 1s 2ms/step - loss: 0.0692 - accuracy: 0.9795 - val_loss: 0.1000 - val_accuracy: 0.9778\n",
      "Epoch 15/30\n",
      "375/375 [==============================] - 1s 2ms/step - loss: 0.0682 - accuracy: 0.9806 - val_loss: 0.1058 - val_accuracy: 0.9776\n",
      "Epoch 16/30\n",
      "375/375 [==============================] - 1s 2ms/step - loss: 0.0636 - accuracy: 0.9820 - val_loss: 0.1065 - val_accuracy: 0.9774\n",
      "Epoch 17/30\n",
      "375/375 [==============================] - 1s 2ms/step - loss: 0.0638 - accuracy: 0.9823 - val_loss: 0.1019 - val_accuracy: 0.9791\n",
      "Epoch 18/30\n",
      "375/375 [==============================] - 1s 2ms/step - loss: 0.0614 - accuracy: 0.9832 - val_loss: 0.0971 - val_accuracy: 0.9801\n",
      "Epoch 19/30\n",
      "375/375 [==============================] - 1s 2ms/step - loss: 0.0587 - accuracy: 0.9830 - val_loss: 0.1067 - val_accuracy: 0.9799\n",
      "Epoch 20/30\n",
      "375/375 [==============================] - 1s 2ms/step - loss: 0.0589 - accuracy: 0.9836 - val_loss: 0.1088 - val_accuracy: 0.9778\n",
      "Epoch 21/30\n",
      "375/375 [==============================] - 1s 2ms/step - loss: 0.0580 - accuracy: 0.9835 - val_loss: 0.1040 - val_accuracy: 0.9803\n",
      "Epoch 22/30\n",
      "375/375 [==============================] - 1s 2ms/step - loss: 0.0566 - accuracy: 0.9840 - val_loss: 0.1054 - val_accuracy: 0.9800\n",
      "Epoch 23/30\n",
      "375/375 [==============================] - 1s 2ms/step - loss: 0.0548 - accuracy: 0.9852 - val_loss: 0.1222 - val_accuracy: 0.9787\n",
      "Epoch 24/30\n",
      "375/375 [==============================] - 1s 2ms/step - loss: 0.0552 - accuracy: 0.9846 - val_loss: 0.1220 - val_accuracy: 0.9787\n",
      "Epoch 25/30\n",
      "375/375 [==============================] - 1s 2ms/step - loss: 0.0511 - accuracy: 0.9855 - val_loss: 0.1186 - val_accuracy: 0.9796\n",
      "Epoch 26/30\n",
      "375/375 [==============================] - 1s 2ms/step - loss: 0.0535 - accuracy: 0.9859 - val_loss: 0.1235 - val_accuracy: 0.9804\n",
      "Epoch 27/30\n",
      "375/375 [==============================] - 1s 2ms/step - loss: 0.0533 - accuracy: 0.9861 - val_loss: 0.1216 - val_accuracy: 0.9803\n",
      "Epoch 28/30\n",
      "375/375 [==============================] - 1s 2ms/step - loss: 0.0524 - accuracy: 0.9855 - val_loss: 0.1285 - val_accuracy: 0.9788\n",
      "Epoch 29/30\n",
      "375/375 [==============================] - 1s 2ms/step - loss: 0.0496 - accuracy: 0.9865 - val_loss: 0.1286 - val_accuracy: 0.9804\n",
      "Epoch 30/30\n",
      "375/375 [==============================] - 1s 2ms/step - loss: 0.0496 - accuracy: 0.9864 - val_loss: 0.1277 - val_accuracy: 0.9787\n"
     ]
    }
   ],
   "source": [
    "model.compile(\n",
    "    loss='categorical_crossentropy',\n",
    "    optimizer=RMSprop(),\n",
    "    metrics=['accuracy']\n",
    ")\n",
    "\n",
    "history = model.fit(X_train, y_train, epochs=30,\n",
    "                    batch_size=128, validation_split = 0.2)"
   ]
  },
  {
   "cell_type": "code",
   "execution_count": 7,
   "id": "7314031b",
   "metadata": {},
   "outputs": [
    {
     "data": {
      "image/png": "[encoded data removed]",
      "text/plain": [
       "<Figure size 640x480 with 1 Axes>"
      ]
     },
     "metadata": {},
     "output_type": "display_data"
    }
   ],
   "source": [
    "train_errors = history.history['loss']\n",
    "val_errors = history.history['val_loss']\n",
    "\n",
    "epochs = np.arange(1, len(train_errors)+1)\n",
    "plt.plot(epochs, train_errors, 'b-', label='Training Error')\n",
    "plt.plot(epochs, val_errors, 'r-', label='Validation Error')\n",
    "plt.xlabel('Epochs')\n",
    "plt.ylabel('Error')\n",
    "plt.title('Training and Validation Error')\n",
    "plt.legend()\n",
    "plt.show()"
   ]
  },
  {
   "cell_type": "code",
   "execution_count": 11,
   "id": "53be56a2",
   "metadata": {},
   "outputs": [
    {
     "name": "stdout",
     "output_type": "stream",
     "text": [
      "313/313 [==============================] - 0s 397us/step - loss: 0.1051 - accuracy: 0.9804\n"
     ]
    },
    {
     "data": {
      "text/plain": [
       "0.980400025844574"
      ]
     },
     "execution_count": 11,
     "metadata": {},
     "output_type": "execute_result"
    }
   ],
   "source": [
    "model.evaluate(X_test, y_test)[1]"
   ]
  },
  {
   "cell_type": "code",
   "execution_count": null,
   "id": "8bc3016b",
   "metadata": {},
   "outputs": [],
   "source": []
  }
 ],
 "metadata": {
  "kernelspec": {
   "display_name": "Python 3 (ipykernel)",
   "language": "python",
   "name": "python3"
  },
  "language_info": {
   "codemirror_mode": {
    "name": "ipython",
    "version": 3
   },
   "file_extension": ".py",
   "mimetype": "text/x-python",
   "name": "python",
   "nbconvert_exporter": "python",
   "pygments_lexer": "ipython3",
   "version": "3.10.10"
  }
 },
 "nbformat": 4,
 "nbformat_minor": 5
}
