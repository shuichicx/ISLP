{
 "cells": [
  {
   "cell_type": "code",
   "execution_count": 1,
   "id": "900f0774",
   "metadata": {},
   "outputs": [],
   "source": [
    "%matplotlib inline\n",
    "\n",
    "import pandas as pd\n",
    "import numpy as np\n",
    "import statsmodels.api as sm"
   ]
  },
  {
   "cell_type": "markdown",
   "id": "e8dc6004",
   "metadata": {},
   "source": [
    "## 5.3.1 The Validation Set Approach"
   ]
  },
  {
   "cell_type": "code",
   "execution_count": 2,
   "id": "e36475ad",
   "metadata": {},
   "outputs": [],
   "source": [
    "auto = pd.read_csv('../data/auto.csv', na_values=['?'])\n",
    "auto.dropna(axis=0, inplace=True)\n",
    "\n",
    "auto['horsepower2'] = np.power(auto['horsepower'], 2)\n",
    "auto['horsepower3'] = np.power(auto['horsepower'], 3)"
   ]
  },
  {
   "cell_type": "code",
   "execution_count": 3,
   "id": "e585cf2c",
   "metadata": {},
   "outputs": [],
   "source": [
    "from sklearn.model_selection import train_test_split\n",
    "\n",
    "X = auto.loc[:, ['horsepower', 'horsepower2', 'horsepower3']]\n",
    "y = auto.mpg\n",
    "\n",
    "X_train, X_cv, y_train, y_cv = train_test_split(X, y, train_size=0.5, random_state=1)"
   ]
  },
  {
   "cell_type": "code",
   "execution_count": 4,
   "id": "d4fad834",
   "metadata": {},
   "outputs": [],
   "source": [
    "from sklearn.linear_model import LinearRegression\n",
    "\n",
    "sk_lm = LinearRegression(fit_intercept=True)\n",
    "sk_lm2 = LinearRegression(fit_intercept=True)\n",
    "sk_lm3 = LinearRegression(fit_intercept=True)\n",
    "\n",
    "sk_lm.fit(X_train['horsepower'].values.reshape(-1, 1), y_train)\n",
    "sk_lm2.fit(X_train.loc[:, ['horsepower', 'horsepower2']], y_train)\n",
    "sk_lm3.fit(X_train.loc[:, ['horsepower', 'horsepower2', 'horsepower3']], y_train)\n",
    "\n",
    "sk_lm_predict = sk_lm.predict(X_cv['horsepower'].values.reshape(-1, 1))\n",
    "sk_lm2_predict = sk_lm2.predict(X_cv.loc[:, ['horsepower', 'horsepower2']])\n",
    "sk_lm3_predict = sk_lm3.predict(X_cv.loc[:, ['horsepower', 'horsepower2', 'horsepower3']])"
   ]
  },
  {
   "cell_type": "code",
   "execution_count": 5,
   "id": "d6e8d944",
   "metadata": {},
   "outputs": [
    {
     "name": "stdout",
     "output_type": "stream",
     "text": [
      "Linear: 24.80212062059356\n",
      "Quadratic: 18.84829260327566\n",
      "Cubic: 18.80511135860503\n"
     ]
    }
   ],
   "source": [
    "from sklearn.metrics import mean_squared_error\n",
    "\n",
    "print(f'Linear: {mean_squared_error(y_cv, sk_lm_predict)}')\n",
    "print(f'Quadratic: {mean_squared_error(y_cv, sk_lm2_predict)}')\n",
    "print(f'Cubic: {mean_squared_error(y_cv, sk_lm3_predict)}')"
   ]
  },
  {
   "cell_type": "markdown",
   "id": "abbde736",
   "metadata": {},
   "source": [
    "## 5.3.2 Leave-One-Out Cross-Validation"
   ]
  },
  {
   "cell_type": "code",
   "execution_count": 6,
   "id": "08ba4c1f",
   "metadata": {},
   "outputs": [],
   "source": [
    "auto['horsepower4'] = np.power(auto['horsepower'], 4)\n",
    "auto['horsepower5'] = np.power(auto['horsepower'], 5)\n",
    "auto['horsepower6'] = np.power(auto['horsepower'], 6)"
   ]
  },
  {
   "cell_type": "code",
   "execution_count": 7,
   "id": "ff8ec4d7",
   "metadata": {},
   "outputs": [],
   "source": [
    "X, y = auto.loc[:, ['horsepower', 'horsepower2', 'horsepower3', 'horsepower4', 'horsepower5', 'horsepower6']], auto.mpg"
   ]
  },
  {
   "cell_type": "code",
   "execution_count": 8,
   "id": "f818fa8b",
   "metadata": {},
   "outputs": [
    {
     "data": {
      "text/plain": [
       "24.231513517929233"
      ]
     },
     "execution_count": 8,
     "metadata": {},
     "output_type": "execute_result"
    }
   ],
   "source": [
    "from sklearn.model_selection import LeaveOneOut\n",
    "\n",
    "loocv = LeaveOneOut()\n",
    "loocv.get_n_splits(X)\n",
    "\n",
    "loocv_lm = LinearRegression(fit_intercept=True)\n",
    "\n",
    "loocv_mse = []\n",
    "for train_idx, cv_idx in loocv.split(X):\n",
    "    X_train, X_cv = X.iloc[train_idx], X.iloc[cv_idx]\n",
    "    y_train, y_cv = y.iloc[train_idx], y.iloc[cv_idx]\n",
    "    \n",
    "    loocv_lm.fit(X_train.loc[:, 'horsepower'].values.reshape(-1, 1), y_train)\n",
    "    loocv_mse.append(mean_squared_error(y_cv, loocv_lm.predict(X_cv.loc[:, 'horsepower'].values.reshape(-1, 1))))\n",
    "\n",
    "np.array(loocv_mse).mean()"
   ]
  },
  {
   "cell_type": "code",
   "execution_count": 9,
   "id": "5cae3723",
   "metadata": {},
   "outputs": [],
   "source": [
    "# polynomial features\n",
    "\n",
    "loocv_outputs = {}\n",
    "\n",
    "for i in range(0, 6):\n",
    "    loocv_mse = []\n",
    "    \n",
    "    lm = LinearRegression(fit_intercept=True)\n",
    "    \n",
    "    for train_idx, cv_idx in loocv.split(X):\n",
    "        X_train, X_cv = X.iloc[train_idx], X.iloc[cv_idx]\n",
    "        y_train, y_cv = y.iloc[train_idx], y.iloc[cv_idx]\n",
    "        \n",
    "        if i == 0:\n",
    "            X_TRAIN = X_train.iloc[:, 0].values.reshape(-1, 1)\n",
    "            X_CV = X_cv.iloc[:, 0].values.reshape(-1, 1)\n",
    "        else:\n",
    "            X_TRAIN = X_train.iloc[:, 0:i+1]\n",
    "            X_CV = X_cv.iloc[:, 0:i+1]\n",
    "        \n",
    "        lm.fit(X_TRAIN, y_train)\n",
    "        prediction = lm.predict(X_CV)\n",
    "        loocv_mse.append(mean_squared_error(y_cv, prediction))\n",
    "        \n",
    "    loocv_outputs[f'lm-degree:{i+1}-MSE'] = np.array(loocv_mse).mean()"
   ]
  },
  {
   "cell_type": "code",
   "execution_count": 10,
   "id": "cb86d51b",
   "metadata": {},
   "outputs": [
    {
     "data": {
      "text/plain": [
       "{'lm-degree:1-MSE': 24.231513517929233,\n",
       " 'lm-degree:2-MSE': 19.24821312448965,\n",
       " 'lm-degree:3-MSE': 19.33498406402896,\n",
       " 'lm-degree:4-MSE': 19.424430310426498,\n",
       " 'lm-degree:5-MSE': 19.0332121143411,\n",
       " 'lm-degree:6-MSE': 18.97806840155051}"
      ]
     },
     "execution_count": 10,
     "metadata": {},
     "output_type": "execute_result"
    }
   ],
   "source": [
    "loocv_outputs"
   ]
  },
  {
   "cell_type": "markdown",
   "id": "8ea7f93a",
   "metadata": {},
   "source": [
    "## 5.3.3 k-Fold Cross-Validation"
   ]
  },
  {
   "cell_type": "code",
   "execution_count": 11,
   "id": "4c4ee49b",
   "metadata": {},
   "outputs": [],
   "source": [
    "X, y = auto.loc[:, ['horsepower', 'horsepower2', 'horsepower3', 'horsepower4', 'horsepower5', 'horsepower6']], auto.mpg"
   ]
  },
  {
   "cell_type": "code",
   "execution_count": 12,
   "id": "d13c22b9",
   "metadata": {},
   "outputs": [
    {
     "data": {
      "text/plain": [
       "24.182335895569228"
      ]
     },
     "execution_count": 12,
     "metadata": {},
     "output_type": "execute_result"
    }
   ],
   "source": [
    "from sklearn.model_selection import KFold\n",
    "\n",
    "kf = KFold(n_splits=10, shuffle=True, random_state=17)\n",
    "kf.get_n_splits(X)\n",
    "\n",
    "kf_lm = LinearRegression(fit_intercept=True)\n",
    "\n",
    "kf_mse = []\n",
    "for train_idx, cv_idx in kf.split(X):\n",
    "    X_train, X_cv = X.iloc[train_idx], X.iloc[cv_idx]\n",
    "    y_train, y_cv = y.iloc[train_idx], y.iloc[cv_idx]\n",
    "    \n",
    "    kf_lm.fit(X_train.loc[:, 'horsepower'].values.reshape(-1, 1), y_train)\n",
    "    prediction = kf_lm.predict(X_cv.loc[:, 'horsepower'].values.reshape(-1, 1))\n",
    "    \n",
    "    kf_mse.append(mean_squared_error(y_cv, prediction))\n",
    "\n",
    "np.array(kf_mse).mean()"
   ]
  },
  {
   "cell_type": "code",
   "execution_count": 13,
   "id": "3d6653ca",
   "metadata": {},
   "outputs": [],
   "source": [
    "# polynomial features\n",
    "\n",
    "kf_outputs = {}\n",
    "\n",
    "for i in range(0, 6):\n",
    "    kf_mse = []\n",
    "    \n",
    "    lm = LinearRegression(fit_intercept=True)\n",
    "    \n",
    "    for train_idx, cv_idx in kf.split(X):\n",
    "        X_train, X_cv = X.iloc[train_idx], X.iloc[cv_idx]\n",
    "        y_train, y_cv = y.iloc[train_idx], y.iloc[cv_idx]\n",
    "        \n",
    "        if i == 0:\n",
    "            X_TRAIN = X_train.iloc[:, 0].values.reshape(-1, 1)\n",
    "            X_CV = X_cv.iloc[:, 0].values.reshape(-1, 1)\n",
    "        else:\n",
    "            X_TRAIN = X_train.iloc[:, 0:i+1]\n",
    "            X_CV = X_cv.iloc[:, 0:i+1]\n",
    "        \n",
    "        lm.fit(X_TRAIN, y_train)\n",
    "        prediction = lm.predict(X_CV)\n",
    "        kf_mse.append(mean_squared_error(y_cv, prediction))\n",
    "        \n",
    "    kf_outputs[f'lm-degree:{i+1}-MSE'] = np.array(kf_mse).mean()"
   ]
  },
  {
   "cell_type": "code",
   "execution_count": 14,
   "id": "34b3bdf1",
   "metadata": {},
   "outputs": [
    {
     "data": {
      "text/plain": [
       "{'lm-degree:1-MSE': 24.182335895569228,\n",
       " 'lm-degree:2-MSE': 19.137584705467884,\n",
       " 'lm-degree:3-MSE': 19.155247225776385,\n",
       " 'lm-degree:4-MSE': 19.250162771368508,\n",
       " 'lm-degree:5-MSE': 18.897086745494697,\n",
       " 'lm-degree:6-MSE': 18.81696248200453}"
      ]
     },
     "execution_count": 14,
     "metadata": {},
     "output_type": "execute_result"
    }
   ],
   "source": [
    "kf_outputs"
   ]
  },
  {
   "cell_type": "markdown",
   "id": "8e5e98b1",
   "metadata": {},
   "source": [
    "## 5.3.4 The Bootstrap"
   ]
  },
  {
   "cell_type": "code",
   "execution_count": 15,
   "id": "c08a2911",
   "metadata": {},
   "outputs": [
    {
     "data": {
      "text/html": [
       "<div>\n",
       "<style scoped>\n",
       "    .dataframe tbody tr th:only-of-type {\n",
       "        vertical-align: middle;\n",
       "    }\n",
       "\n",
       "    .dataframe tbody tr th {\n",
       "        vertical-align: top;\n",
       "    }\n",
       "\n",
       "    .dataframe thead th {\n",
       "        text-align: right;\n",
       "    }\n",
       "</style>\n",
       "<table border=\"1\" class=\"dataframe\">\n",
       "  <thead>\n",
       "    <tr style=\"text-align: right;\">\n",
       "      <th></th>\n",
       "      <th>X</th>\n",
       "      <th>Y</th>\n",
       "    </tr>\n",
       "  </thead>\n",
       "  <tbody>\n",
       "    <tr>\n",
       "      <th>0</th>\n",
       "      <td>-0.895251</td>\n",
       "      <td>-0.234924</td>\n",
       "    </tr>\n",
       "    <tr>\n",
       "      <th>1</th>\n",
       "      <td>-1.562454</td>\n",
       "      <td>-0.885176</td>\n",
       "    </tr>\n",
       "    <tr>\n",
       "      <th>2</th>\n",
       "      <td>-0.417090</td>\n",
       "      <td>0.271888</td>\n",
       "    </tr>\n",
       "    <tr>\n",
       "      <th>3</th>\n",
       "      <td>1.044356</td>\n",
       "      <td>-0.734198</td>\n",
       "    </tr>\n",
       "    <tr>\n",
       "      <th>4</th>\n",
       "      <td>-0.315568</td>\n",
       "      <td>0.841983</td>\n",
       "    </tr>\n",
       "  </tbody>\n",
       "</table>\n",
       "</div>"
      ],
      "text/plain": [
       "          X         Y\n",
       "0 -0.895251 -0.234924\n",
       "1 -1.562454 -0.885176\n",
       "2 -0.417090  0.271888\n",
       "3  1.044356 -0.734198\n",
       "4 -0.315568  0.841983"
      ]
     },
     "execution_count": 15,
     "metadata": {},
     "output_type": "execute_result"
    }
   ],
   "source": [
    "portfolio = pd.read_csv('../data/portfolio.csv')\n",
    "portfolio.head()"
   ]
  },
  {
   "cell_type": "markdown",
   "id": "38a96854",
   "metadata": {},
   "source": [
    "### Estimating the Accuracy of a Statistic of Interest"
   ]
  },
  {
   "cell_type": "code",
   "execution_count": 16,
   "id": "68978ab7",
   "metadata": {},
   "outputs": [],
   "source": [
    "def alpha_fn(data, index):\n",
    "    X = data['X'][index[0]: index[1]]\n",
    "    y = data['Y'][index[0]: index[1]]\n",
    "    return ((np.var(y) - np.cov(X, y)[0][1])/(np.var(X) + np.var(y) - 2 * np.cov(X, y)[0][1]))"
   ]
  },
  {
   "cell_type": "code",
   "execution_count": 17,
   "id": "4d978160",
   "metadata": {},
   "outputs": [
    {
     "data": {
      "text/plain": [
       "0.5766511516104116"
      ]
     },
     "execution_count": 17,
     "metadata": {},
     "output_type": "execute_result"
    }
   ],
   "source": [
    "alpha_fn(portfolio, [0, 100])"
   ]
  },
  {
   "cell_type": "code",
   "execution_count": 18,
   "id": "e3a02451",
   "metadata": {},
   "outputs": [
    {
     "data": {
      "text/html": [
       "<div>\n",
       "<style scoped>\n",
       "    .dataframe tbody tr th:only-of-type {\n",
       "        vertical-align: middle;\n",
       "    }\n",
       "\n",
       "    .dataframe tbody tr th {\n",
       "        vertical-align: top;\n",
       "    }\n",
       "\n",
       "    .dataframe thead th {\n",
       "        text-align: right;\n",
       "    }\n",
       "</style>\n",
       "<table border=\"1\" class=\"dataframe\">\n",
       "  <thead>\n",
       "    <tr style=\"text-align: right;\">\n",
       "      <th></th>\n",
       "      <th>X</th>\n",
       "      <th>Y</th>\n",
       "    </tr>\n",
       "  </thead>\n",
       "  <tbody>\n",
       "    <tr>\n",
       "      <th>47</th>\n",
       "      <td>1.171830</td>\n",
       "      <td>1.729831</td>\n",
       "    </tr>\n",
       "    <tr>\n",
       "      <th>68</th>\n",
       "      <td>-0.881701</td>\n",
       "      <td>-1.540685</td>\n",
       "    </tr>\n",
       "    <tr>\n",
       "      <th>25</th>\n",
       "      <td>-0.685376</td>\n",
       "      <td>-0.457616</td>\n",
       "    </tr>\n",
       "    <tr>\n",
       "      <th>67</th>\n",
       "      <td>1.302851</td>\n",
       "      <td>1.104666</td>\n",
       "    </tr>\n",
       "    <tr>\n",
       "      <th>83</th>\n",
       "      <td>-0.600486</td>\n",
       "      <td>-0.420941</td>\n",
       "    </tr>\n",
       "    <tr>\n",
       "      <th>...</th>\n",
       "      <td>...</td>\n",
       "      <td>...</td>\n",
       "    </tr>\n",
       "    <tr>\n",
       "      <th>76</th>\n",
       "      <td>0.716797</td>\n",
       "      <td>0.602337</td>\n",
       "    </tr>\n",
       "    <tr>\n",
       "      <th>67</th>\n",
       "      <td>1.302851</td>\n",
       "      <td>1.104666</td>\n",
       "    </tr>\n",
       "    <tr>\n",
       "      <th>14</th>\n",
       "      <td>0.294016</td>\n",
       "      <td>0.628589</td>\n",
       "    </tr>\n",
       "    <tr>\n",
       "      <th>20</th>\n",
       "      <td>-0.645448</td>\n",
       "      <td>-1.412431</td>\n",
       "    </tr>\n",
       "    <tr>\n",
       "      <th>53</th>\n",
       "      <td>-0.285665</td>\n",
       "      <td>-1.308781</td>\n",
       "    </tr>\n",
       "  </tbody>\n",
       "</table>\n",
       "<p>100 rows × 2 columns</p>\n",
       "</div>"
      ],
      "text/plain": [
       "           X         Y\n",
       "47  1.171830  1.729831\n",
       "68 -0.881701 -1.540685\n",
       "25 -0.685376 -0.457616\n",
       "67  1.302851  1.104666\n",
       "83 -0.600486 -0.420941\n",
       "..       ...       ...\n",
       "76  0.716797  0.602337\n",
       "67  1.302851  1.104666\n",
       "14  0.294016  0.628589\n",
       "20 -0.645448 -1.412431\n",
       "53 -0.285665 -1.308781\n",
       "\n",
       "[100 rows x 2 columns]"
      ]
     },
     "execution_count": 18,
     "metadata": {},
     "output_type": "execute_result"
    }
   ],
   "source": [
    "from sklearn.utils import resample\n",
    "\n",
    "portfolio_samp = resample(portfolio, replace=True, n_samples=100, random_state=7)\n",
    "portfolio_samp"
   ]
  },
  {
   "cell_type": "code",
   "execution_count": 19,
   "id": "d161758c",
   "metadata": {},
   "outputs": [
    {
     "data": {
      "text/plain": [
       "0.5117744709121624"
      ]
     },
     "execution_count": 19,
     "metadata": {},
     "output_type": "execute_result"
    }
   ],
   "source": [
    "alpha_fn(portfolio_samp, [0, 100])"
   ]
  },
  {
   "cell_type": "code",
   "execution_count": 20,
   "id": "077e9552",
   "metadata": {},
   "outputs": [
    {
     "name": "stdout",
     "output_type": "stream",
     "text": [
      "Bootstrap alpha:  0.5807311300821817\n",
      "SE:  0.0944201601875738\n"
     ]
    }
   ],
   "source": [
    "bootstrap_alpha = []\n",
    "\n",
    "for i in range(1000):\n",
    "    portfolio_samp = resample(portfolio, replace=True, n_samples=100)\n",
    "    bootstrap_alpha.append(alpha_fn(portfolio_samp, [0, 100]))\n",
    "    \n",
    "bs_alpha = np.array(bootstrap_alpha)\n",
    "print('Bootstrap alpha: ', bs_alpha.mean())\n",
    "print('SE: ', bs_alpha.std())"
   ]
  },
  {
   "cell_type": "markdown",
   "id": "c0141df4",
   "metadata": {},
   "source": [
    "### Estimating the Accuracy of a Linear Regression Model"
   ]
  },
  {
   "cell_type": "code",
   "execution_count": 21,
   "id": "3178b780",
   "metadata": {},
   "outputs": [],
   "source": [
    "def boot_fn(data, index):\n",
    "    lm = LinearRegression(fit_intercept=True)\n",
    "    lm.fit(data['horsepower'][index[0]:index[1]].values.reshape(-1, 1),\n",
    "           data['mpg'][index[0]:index[1]])\n",
    "    return lm.intercept_, lm.coef_"
   ]
  },
  {
   "cell_type": "code",
   "execution_count": 22,
   "id": "78fc7918",
   "metadata": {},
   "outputs": [
    {
     "data": {
      "text/plain": [
       "(39.935861021170524, array([-0.15784473]))"
      ]
     },
     "execution_count": 22,
     "metadata": {},
     "output_type": "execute_result"
    }
   ],
   "source": [
    "boot_fn(auto, [0, 392])"
   ]
  },
  {
   "cell_type": "code",
   "execution_count": 23,
   "id": "eaf4f46b",
   "metadata": {},
   "outputs": [
    {
     "data": {
      "text/html": [
       "<div>\n",
       "<style scoped>\n",
       "    .dataframe tbody tr th:only-of-type {\n",
       "        vertical-align: middle;\n",
       "    }\n",
       "\n",
       "    .dataframe tbody tr th {\n",
       "        vertical-align: top;\n",
       "    }\n",
       "\n",
       "    .dataframe thead th {\n",
       "        text-align: right;\n",
       "    }\n",
       "</style>\n",
       "<table border=\"1\" class=\"dataframe\">\n",
       "  <thead>\n",
       "    <tr style=\"text-align: right;\">\n",
       "      <th></th>\n",
       "      <th>Bootstrap Estimate</th>\n",
       "      <th>Bootstrap SE</th>\n",
       "    </tr>\n",
       "  </thead>\n",
       "  <tbody>\n",
       "    <tr>\n",
       "      <th>intercept</th>\n",
       "      <td>39.969382</td>\n",
       "      <td>0.881983</td>\n",
       "    </tr>\n",
       "    <tr>\n",
       "      <th>coefficient</th>\n",
       "      <td>-0.158017</td>\n",
       "      <td>0.007197</td>\n",
       "    </tr>\n",
       "  </tbody>\n",
       "</table>\n",
       "</div>"
      ],
      "text/plain": [
       "             Bootstrap Estimate  Bootstrap SE\n",
       "intercept             39.969382      0.881983\n",
       "coefficient           -0.158017      0.007197"
      ]
     },
     "execution_count": 23,
     "metadata": {},
     "output_type": "execute_result"
    }
   ],
   "source": [
    "bs_intercept = []\n",
    "bs_coef = []\n",
    "\n",
    "for i in range(1000):\n",
    "    bs_intercept.append(boot_fn(resample(auto, replace=True, n_samples=392), [0, 392])[0])\n",
    "    bs_coef.append(boot_fn(resample(auto, replace=True, n_samples=392), [0, 392])[1][0])\n",
    "\n",
    "result_table = pd.DataFrame({'Bootstrap Estimate': [np.array(bs_intercept).mean(), np.array(bs_coef).mean()],\n",
    "                             'Bootstrap SE': [np.array(bs_intercept).std(), np.array(bs_coef).std()]},\n",
    "                           index=['intercept', 'coefficient'])\n",
    "\n",
    "result_table"
   ]
  },
  {
   "cell_type": "code",
   "execution_count": 24,
   "id": "e3c8656c",
   "metadata": {},
   "outputs": [
    {
     "data": {
      "text/html": [
       "<table class=\"simpletable\">\n",
       "<tr>\n",
       "       <td></td>         <th>coef</th>     <th>std err</th>      <th>t</th>      <th>P>|t|</th>  <th>[0.025</th>    <th>0.975]</th>  \n",
       "</tr>\n",
       "<tr>\n",
       "  <th>const</th>      <td>   39.9359</td> <td>    0.717</td> <td>   55.660</td> <td> 0.000</td> <td>   38.525</td> <td>   41.347</td>\n",
       "</tr>\n",
       "<tr>\n",
       "  <th>horsepower</th> <td>   -0.1578</td> <td>    0.006</td> <td>  -24.489</td> <td> 0.000</td> <td>   -0.171</td> <td>   -0.145</td>\n",
       "</tr>\n",
       "</table>"
      ],
      "text/plain": [
       "<class 'statsmodels.iolib.table.SimpleTable'>"
      ]
     },
     "execution_count": 24,
     "metadata": {},
     "output_type": "execute_result"
    }
   ],
   "source": [
    "lm = sm.OLS(auto.mpg, sm.add_constant(auto.horsepower)).fit()\n",
    "lm.summary().tables[1]"
   ]
  },
  {
   "cell_type": "code",
   "execution_count": 25,
   "id": "ff4172b4",
   "metadata": {},
   "outputs": [],
   "source": [
    "def boot_fn2(data, index):\n",
    "    lm = LinearRegression(fit_intercept=True)\n",
    "    lm.fit(data[['horsepower', 'horsepower2']][index[0]:index[1]],\n",
    "           data['mpg'][index[0]:index[1]])\n",
    "    return lm.intercept_, lm.coef_"
   ]
  },
  {
   "cell_type": "code",
   "execution_count": 26,
   "id": "bc8a428f",
   "metadata": {},
   "outputs": [
    {
     "data": {
      "text/html": [
       "<div>\n",
       "<style scoped>\n",
       "    .dataframe tbody tr th:only-of-type {\n",
       "        vertical-align: middle;\n",
       "    }\n",
       "\n",
       "    .dataframe tbody tr th {\n",
       "        vertical-align: top;\n",
       "    }\n",
       "\n",
       "    .dataframe thead th {\n",
       "        text-align: right;\n",
       "    }\n",
       "</style>\n",
       "<table border=\"1\" class=\"dataframe\">\n",
       "  <thead>\n",
       "    <tr style=\"text-align: right;\">\n",
       "      <th></th>\n",
       "      <th>Bootstrap Estimate</th>\n",
       "      <th>Bootstrap SE</th>\n",
       "    </tr>\n",
       "  </thead>\n",
       "  <tbody>\n",
       "    <tr>\n",
       "      <th>intercept</th>\n",
       "      <td>56.892466</td>\n",
       "      <td>2.065909</td>\n",
       "    </tr>\n",
       "    <tr>\n",
       "      <th>coefficient1</th>\n",
       "      <td>-0.467487</td>\n",
       "      <td>0.033874</td>\n",
       "    </tr>\n",
       "    <tr>\n",
       "      <th>coefficient2</th>\n",
       "      <td>0.001242</td>\n",
       "      <td>0.000119</td>\n",
       "    </tr>\n",
       "  </tbody>\n",
       "</table>\n",
       "</div>"
      ],
      "text/plain": [
       "              Bootstrap Estimate  Bootstrap SE\n",
       "intercept              56.892466      2.065909\n",
       "coefficient1           -0.467487      0.033874\n",
       "coefficient2            0.001242      0.000119"
      ]
     },
     "execution_count": 26,
     "metadata": {},
     "output_type": "execute_result"
    }
   ],
   "source": [
    "bs2_intercept = []\n",
    "bs2_coef1 = []\n",
    "bs2_coef2 = []\n",
    "\n",
    "for i in range(1000):\n",
    "    bs2_intercept.append(boot_fn2(resample(auto, replace=True, n_samples=392), [0, 392])[0])\n",
    "    bs2_coef1.append(boot_fn2(resample(auto, replace=True, n_samples=392), [0, 392])[1][0])\n",
    "    bs2_coef2.append(boot_fn2(resample(auto, replace=True, n_samples=392), [0, 392])[1][1])\n",
    "    \n",
    "result_table = pd.DataFrame({\n",
    "                     'Bootstrap Estimate': [np.array(bs2_intercept).mean(),\n",
    "                                            np.array(bs2_coef1).mean(),\n",
    "                                            np.array(bs2_coef2).mean()],\n",
    "                     'Bootstrap SE': [np.array(bs2_intercept).std(), \n",
    "                                      np.array(bs2_coef1).std(),\n",
    "                                      np.array(bs2_coef2).std()]},\n",
    "                     index=['intercept', 'coefficient1', 'coefficient2'])\n",
    "result_table"
   ]
  },
  {
   "cell_type": "code",
   "execution_count": 27,
   "id": "7d1553cb",
   "metadata": {},
   "outputs": [
    {
     "data": {
      "text/html": [
       "<table class=\"simpletable\">\n",
       "<tr>\n",
       "       <td></td>          <th>coef</th>     <th>std err</th>      <th>t</th>      <th>P>|t|</th>  <th>[0.025</th>    <th>0.975]</th>  \n",
       "</tr>\n",
       "<tr>\n",
       "  <th>const</th>       <td>   56.9001</td> <td>    1.800</td> <td>   31.604</td> <td> 0.000</td> <td>   53.360</td> <td>   60.440</td>\n",
       "</tr>\n",
       "<tr>\n",
       "  <th>horsepower</th>  <td>   -0.4662</td> <td>    0.031</td> <td>  -14.978</td> <td> 0.000</td> <td>   -0.527</td> <td>   -0.405</td>\n",
       "</tr>\n",
       "<tr>\n",
       "  <th>horsepower2</th> <td>    0.0012</td> <td>    0.000</td> <td>   10.080</td> <td> 0.000</td> <td>    0.001</td> <td>    0.001</td>\n",
       "</tr>\n",
       "</table>"
      ],
      "text/plain": [
       "<class 'statsmodels.iolib.table.SimpleTable'>"
      ]
     },
     "execution_count": 27,
     "metadata": {},
     "output_type": "execute_result"
    }
   ],
   "source": [
    "lm2 = sm.OLS(auto.mpg, sm.add_constant(auto[['horsepower', 'horsepower2']])).fit()\n",
    "lm2.summary().tables[1]"
   ]
  },
  {
   "cell_type": "code",
   "execution_count": null,
   "id": "7a7f4ca5",
   "metadata": {},
   "outputs": [],
   "source": []
  }
 ],
 "metadata": {
  "kernelspec": {
   "display_name": "Python 3 (ipykernel)",
   "language": "python",
   "name": "python3"
  },
  "language_info": {
   "codemirror_mode": {
    "name": "ipython",
    "version": 3
   },
   "file_extension": ".py",
   "mimetype": "text/x-python",
   "name": "python",
   "nbconvert_exporter": "python",
   "pygments_lexer": "ipython3",
   "version": "3.10.10"
  }
 },
 "nbformat": 4,
 "nbformat_minor": 5
}
