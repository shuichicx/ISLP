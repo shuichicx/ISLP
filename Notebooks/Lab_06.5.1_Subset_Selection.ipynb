{
 "cells": [
  {
   "cell_type": "code",
   "execution_count": 1,
   "id": "d2322bcf",
   "metadata": {},
   "outputs": [],
   "source": [
    "%matplotlib inline\n",
    "\n",
    "import pandas as pd\n",
    "import numpy as np\n",
    "import matplotlib.pyplot as plt\n",
    "import statsmodels.api as sm\n",
    "from itertools import combinations\n",
    "from tqdm import tqdm"
   ]
  },
  {
   "cell_type": "markdown",
   "id": "e4962151",
   "metadata": {},
   "source": [
    "## 6.5.1 Subset Selection Methods"
   ]
  },
  {
   "cell_type": "markdown",
   "id": "d32160f1",
   "metadata": {},
   "source": [
    "### Best Subset Selection"
   ]
  },
  {
   "cell_type": "code",
   "execution_count": 2,
   "id": "ac1d2259",
   "metadata": {},
   "outputs": [
    {
     "data": {
      "text/html": [
       "<div>\n",
       "<style scoped>\n",
       "    .dataframe tbody tr th:only-of-type {\n",
       "        vertical-align: middle;\n",
       "    }\n",
       "\n",
       "    .dataframe tbody tr th {\n",
       "        vertical-align: top;\n",
       "    }\n",
       "\n",
       "    .dataframe thead th {\n",
       "        text-align: right;\n",
       "    }\n",
       "</style>\n",
       "<table border=\"1\" class=\"dataframe\">\n",
       "  <thead>\n",
       "    <tr style=\"text-align: right;\">\n",
       "      <th></th>\n",
       "      <th>AtBat</th>\n",
       "      <th>Hits</th>\n",
       "      <th>HmRun</th>\n",
       "      <th>Runs</th>\n",
       "      <th>RBI</th>\n",
       "      <th>Walks</th>\n",
       "      <th>Years</th>\n",
       "      <th>CAtBat</th>\n",
       "      <th>CHits</th>\n",
       "      <th>CHmRun</th>\n",
       "      <th>CRuns</th>\n",
       "      <th>CRBI</th>\n",
       "      <th>CWalks</th>\n",
       "      <th>League</th>\n",
       "      <th>Division</th>\n",
       "      <th>PutOuts</th>\n",
       "      <th>Assists</th>\n",
       "      <th>Errors</th>\n",
       "      <th>Salary</th>\n",
       "      <th>NewLeague</th>\n",
       "    </tr>\n",
       "  </thead>\n",
       "  <tbody>\n",
       "    <tr>\n",
       "      <th>0</th>\n",
       "      <td>293</td>\n",
       "      <td>66</td>\n",
       "      <td>1</td>\n",
       "      <td>30</td>\n",
       "      <td>29</td>\n",
       "      <td>14</td>\n",
       "      <td>1</td>\n",
       "      <td>293</td>\n",
       "      <td>66</td>\n",
       "      <td>1</td>\n",
       "      <td>30</td>\n",
       "      <td>29</td>\n",
       "      <td>14</td>\n",
       "      <td>A</td>\n",
       "      <td>E</td>\n",
       "      <td>446</td>\n",
       "      <td>33</td>\n",
       "      <td>20</td>\n",
       "      <td>NaN</td>\n",
       "      <td>A</td>\n",
       "    </tr>\n",
       "    <tr>\n",
       "      <th>1</th>\n",
       "      <td>315</td>\n",
       "      <td>81</td>\n",
       "      <td>7</td>\n",
       "      <td>24</td>\n",
       "      <td>38</td>\n",
       "      <td>39</td>\n",
       "      <td>14</td>\n",
       "      <td>3449</td>\n",
       "      <td>835</td>\n",
       "      <td>69</td>\n",
       "      <td>321</td>\n",
       "      <td>414</td>\n",
       "      <td>375</td>\n",
       "      <td>N</td>\n",
       "      <td>W</td>\n",
       "      <td>632</td>\n",
       "      <td>43</td>\n",
       "      <td>10</td>\n",
       "      <td>475.0</td>\n",
       "      <td>N</td>\n",
       "    </tr>\n",
       "    <tr>\n",
       "      <th>2</th>\n",
       "      <td>479</td>\n",
       "      <td>130</td>\n",
       "      <td>18</td>\n",
       "      <td>66</td>\n",
       "      <td>72</td>\n",
       "      <td>76</td>\n",
       "      <td>3</td>\n",
       "      <td>1624</td>\n",
       "      <td>457</td>\n",
       "      <td>63</td>\n",
       "      <td>224</td>\n",
       "      <td>266</td>\n",
       "      <td>263</td>\n",
       "      <td>A</td>\n",
       "      <td>W</td>\n",
       "      <td>880</td>\n",
       "      <td>82</td>\n",
       "      <td>14</td>\n",
       "      <td>480.0</td>\n",
       "      <td>A</td>\n",
       "    </tr>\n",
       "    <tr>\n",
       "      <th>3</th>\n",
       "      <td>496</td>\n",
       "      <td>141</td>\n",
       "      <td>20</td>\n",
       "      <td>65</td>\n",
       "      <td>78</td>\n",
       "      <td>37</td>\n",
       "      <td>11</td>\n",
       "      <td>5628</td>\n",
       "      <td>1575</td>\n",
       "      <td>225</td>\n",
       "      <td>828</td>\n",
       "      <td>838</td>\n",
       "      <td>354</td>\n",
       "      <td>N</td>\n",
       "      <td>E</td>\n",
       "      <td>200</td>\n",
       "      <td>11</td>\n",
       "      <td>3</td>\n",
       "      <td>500.0</td>\n",
       "      <td>N</td>\n",
       "    </tr>\n",
       "    <tr>\n",
       "      <th>4</th>\n",
       "      <td>321</td>\n",
       "      <td>87</td>\n",
       "      <td>10</td>\n",
       "      <td>39</td>\n",
       "      <td>42</td>\n",
       "      <td>30</td>\n",
       "      <td>2</td>\n",
       "      <td>396</td>\n",
       "      <td>101</td>\n",
       "      <td>12</td>\n",
       "      <td>48</td>\n",
       "      <td>46</td>\n",
       "      <td>33</td>\n",
       "      <td>N</td>\n",
       "      <td>E</td>\n",
       "      <td>805</td>\n",
       "      <td>40</td>\n",
       "      <td>4</td>\n",
       "      <td>91.5</td>\n",
       "      <td>N</td>\n",
       "    </tr>\n",
       "  </tbody>\n",
       "</table>\n",
       "</div>"
      ],
      "text/plain": [
       "   AtBat  Hits  HmRun  Runs  RBI  Walks  Years  CAtBat  CHits  CHmRun  CRuns  \\\n",
       "0    293    66      1    30   29     14      1     293     66       1     30   \n",
       "1    315    81      7    24   38     39     14    3449    835      69    321   \n",
       "2    479   130     18    66   72     76      3    1624    457      63    224   \n",
       "3    496   141     20    65   78     37     11    5628   1575     225    828   \n",
       "4    321    87     10    39   42     30      2     396    101      12     48   \n",
       "\n",
       "   CRBI  CWalks League Division  PutOuts  Assists  Errors  Salary NewLeague  \n",
       "0    29      14      A        E      446       33      20     NaN         A  \n",
       "1   414     375      N        W      632       43      10   475.0         N  \n",
       "2   266     263      A        W      880       82      14   480.0         A  \n",
       "3   838     354      N        E      200       11       3   500.0         N  \n",
       "4    46      33      N        E      805       40       4    91.5         N  "
      ]
     },
     "execution_count": 2,
     "metadata": {},
     "output_type": "execute_result"
    }
   ],
   "source": [
    "hitters = pd.read_csv('../data/hitters.csv')\n",
    "hitters.head()"
   ]
  },
  {
   "cell_type": "code",
   "execution_count": 3,
   "id": "5baf7bb9",
   "metadata": {},
   "outputs": [
    {
     "data": {
      "text/plain": [
       "['AtBat',\n",
       " 'Hits',\n",
       " 'HmRun',\n",
       " 'Runs',\n",
       " 'RBI',\n",
       " 'Walks',\n",
       " 'Years',\n",
       " 'CAtBat',\n",
       " 'CHits',\n",
       " 'CHmRun',\n",
       " 'CRuns',\n",
       " 'CRBI',\n",
       " 'CWalks',\n",
       " 'League',\n",
       " 'Division',\n",
       " 'PutOuts',\n",
       " 'Assists',\n",
       " 'Errors',\n",
       " 'Salary',\n",
       " 'NewLeague']"
      ]
     },
     "execution_count": 3,
     "metadata": {},
     "output_type": "execute_result"
    }
   ],
   "source": [
    "list(hitters.columns)"
   ]
  },
  {
   "cell_type": "code",
   "execution_count": 4,
   "id": "6d30389f",
   "metadata": {},
   "outputs": [
    {
     "data": {
      "text/plain": [
       "(322, 20)"
      ]
     },
     "execution_count": 4,
     "metadata": {},
     "output_type": "execute_result"
    }
   ],
   "source": [
    "hitters.shape"
   ]
  },
  {
   "cell_type": "code",
   "execution_count": 5,
   "id": "168281fe",
   "metadata": {},
   "outputs": [
    {
     "data": {
      "text/plain": [
       "AtBat        False\n",
       "Hits         False\n",
       "HmRun        False\n",
       "Runs         False\n",
       "RBI          False\n",
       "Walks        False\n",
       "Years        False\n",
       "CAtBat       False\n",
       "CHits        False\n",
       "CHmRun       False\n",
       "CRuns        False\n",
       "CRBI         False\n",
       "CWalks       False\n",
       "League       False\n",
       "Division     False\n",
       "PutOuts      False\n",
       "Assists      False\n",
       "Errors       False\n",
       "Salary        True\n",
       "NewLeague    False\n",
       "dtype: bool"
      ]
     },
     "execution_count": 5,
     "metadata": {},
     "output_type": "execute_result"
    }
   ],
   "source": [
    "# Salary variable is missing for some of the players\n",
    "hitters.isna().any()"
   ]
  },
  {
   "cell_type": "code",
   "execution_count": 6,
   "id": "9cd311b8",
   "metadata": {},
   "outputs": [
    {
     "data": {
      "text/plain": [
       "59"
      ]
     },
     "execution_count": 6,
     "metadata": {},
     "output_type": "execute_result"
    }
   ],
   "source": [
    "# We see that Salary is missing for 59 players\n",
    "hitters.Salary.isna().sum()"
   ]
  },
  {
   "cell_type": "code",
   "execution_count": 7,
   "id": "36674ca9",
   "metadata": {},
   "outputs": [
    {
     "data": {
      "text/plain": [
       "(263, 20)"
      ]
     },
     "execution_count": 7,
     "metadata": {},
     "output_type": "execute_result"
    }
   ],
   "source": [
    "# Removing all of the rows have missing value in any variable\n",
    "hitters.dropna(axis=0, inplace=True)\n",
    "hitters.shape"
   ]
  },
  {
   "cell_type": "code",
   "execution_count": 8,
   "id": "d29d8b42",
   "metadata": {},
   "outputs": [
    {
     "data": {
      "text/plain": [
       "AtBat        0\n",
       "Hits         0\n",
       "HmRun        0\n",
       "Runs         0\n",
       "RBI          0\n",
       "Walks        0\n",
       "Years        0\n",
       "CAtBat       0\n",
       "CHits        0\n",
       "CHmRun       0\n",
       "CRuns        0\n",
       "CRBI         0\n",
       "CWalks       0\n",
       "League       0\n",
       "Division     0\n",
       "PutOuts      0\n",
       "Assists      0\n",
       "Errors       0\n",
       "Salary       0\n",
       "NewLeague    0\n",
       "dtype: int64"
      ]
     },
     "execution_count": 8,
     "metadata": {},
     "output_type": "execute_result"
    }
   ],
   "source": [
    "hitters.isna().sum()"
   ]
  },
  {
   "cell_type": "code",
   "execution_count": 9,
   "id": "c5911844",
   "metadata": {},
   "outputs": [],
   "source": [
    "# get dummy variables\n",
    "hitters['League'] = pd.get_dummies(hitters['League']).iloc[:, 0]\n",
    "hitters['Division'] = pd.get_dummies(hitters['Division']).iloc[:, 0]\n",
    "hitters['NewLeague'] = pd.get_dummies(hitters['NewLeague']).iloc[:, 0]"
   ]
  },
  {
   "cell_type": "code",
   "execution_count": 10,
   "id": "9ec55dc4",
   "metadata": {},
   "outputs": [],
   "source": [
    "X = hitters.drop(['Salary'], axis=1)\n",
    "y = hitters.Salary"
   ]
  },
  {
   "cell_type": "code",
   "execution_count": 11,
   "id": "f9532cf0",
   "metadata": {},
   "outputs": [],
   "source": [
    "def process_linear_model(subset, data, response):\n",
    "    x_train = sm.add_constant(data[subset])\n",
    "    model = sm.OLS(response, x_train).fit()\n",
    "    train_RSS = model.ssr\n",
    "    return (model, train_RSS)"
   ]
  },
  {
   "cell_type": "code",
   "execution_count": 12,
   "id": "46819749",
   "metadata": {},
   "outputs": [],
   "source": [
    "def find_best_subset(data, response, max_features, operation):\n",
    "    best_sub_list = []\n",
    "    best_model = []\n",
    "    num_of_features = []\n",
    "    \n",
    "    for k in tqdm(range(1, max_features+1)):\n",
    "        best_rss = np.inf\n",
    "        best_kth_model = None\n",
    "        \n",
    "        subsets = combinations(data.columns, k)\n",
    "        \n",
    "        for subset in subsets:\n",
    "            result = process_linear_model(list(subset), data, response)\n",
    "            if result[1] < best_rss:\n",
    "                best_rss = result[1]\n",
    "                best_subset = list(subset)\n",
    "                best_kth_model = result[0]\n",
    "                \n",
    "        num_of_features.append(k)\n",
    "        best_sub_list.append(best_subset)\n",
    "        best_model.append(best_kth_model)\n",
    "            \n",
    "    results = pd.DataFrame({'sub': best_sub_list, 'model': best_model})\n",
    "    results.to_pickle(f'../data/{operation}.pkl')\n",
    "    return results"
   ]
  },
  {
   "cell_type": "code",
   "execution_count": 13,
   "id": "e96a71a9",
   "metadata": {},
   "outputs": [
    {
     "name": "stderr",
     "output_type": "stream",
     "text": [
      "100%|███████████████████████████████████████████| 19/19 [09:23<00:00, 29.63s/it]\n"
     ]
    }
   ],
   "source": [
    "best_sub_results = find_best_subset(X, y, 19, 'hitters_best_sub')"
   ]
  },
  {
   "cell_type": "code",
   "execution_count": 14,
   "id": "8c1823e3",
   "metadata": {
    "scrolled": false
   },
   "outputs": [
    {
     "data": {
      "text/html": [
       "<div>\n",
       "<style scoped>\n",
       "    .dataframe tbody tr th:only-of-type {\n",
       "        vertical-align: middle;\n",
       "    }\n",
       "\n",
       "    .dataframe tbody tr th {\n",
       "        vertical-align: top;\n",
       "    }\n",
       "\n",
       "    .dataframe thead th {\n",
       "        text-align: right;\n",
       "    }\n",
       "</style>\n",
       "<table border=\"1\" class=\"dataframe\">\n",
       "  <thead>\n",
       "    <tr style=\"text-align: right;\">\n",
       "      <th></th>\n",
       "      <th>num_of_features</th>\n",
       "      <th>sub</th>\n",
       "      <th>model</th>\n",
       "    </tr>\n",
       "  </thead>\n",
       "  <tbody>\n",
       "    <tr>\n",
       "      <th>0</th>\n",
       "      <td>1</td>\n",
       "      <td>[CRBI]</td>\n",
       "      <td>&lt;statsmodels.regression.linear_model.Regressio...</td>\n",
       "    </tr>\n",
       "    <tr>\n",
       "      <th>1</th>\n",
       "      <td>2</td>\n",
       "      <td>[Hits, CRBI]</td>\n",
       "      <td>&lt;statsmodels.regression.linear_model.Regressio...</td>\n",
       "    </tr>\n",
       "    <tr>\n",
       "      <th>2</th>\n",
       "      <td>3</td>\n",
       "      <td>[Hits, CRBI, PutOuts]</td>\n",
       "      <td>&lt;statsmodels.regression.linear_model.Regressio...</td>\n",
       "    </tr>\n",
       "    <tr>\n",
       "      <th>3</th>\n",
       "      <td>4</td>\n",
       "      <td>[Hits, CRBI, Division, PutOuts]</td>\n",
       "      <td>&lt;statsmodels.regression.linear_model.Regressio...</td>\n",
       "    </tr>\n",
       "    <tr>\n",
       "      <th>4</th>\n",
       "      <td>5</td>\n",
       "      <td>[AtBat, Hits, CRBI, Division, PutOuts]</td>\n",
       "      <td>&lt;statsmodels.regression.linear_model.Regressio...</td>\n",
       "    </tr>\n",
       "    <tr>\n",
       "      <th>5</th>\n",
       "      <td>6</td>\n",
       "      <td>[AtBat, Hits, Walks, CRBI, Division, PutOuts]</td>\n",
       "      <td>&lt;statsmodels.regression.linear_model.Regressio...</td>\n",
       "    </tr>\n",
       "    <tr>\n",
       "      <th>6</th>\n",
       "      <td>7</td>\n",
       "      <td>[Hits, Walks, CAtBat, CHits, CHmRun, Division,...</td>\n",
       "      <td>&lt;statsmodels.regression.linear_model.Regressio...</td>\n",
       "    </tr>\n",
       "    <tr>\n",
       "      <th>7</th>\n",
       "      <td>8</td>\n",
       "      <td>[AtBat, Hits, Walks, CHmRun, CRuns, CWalks, Di...</td>\n",
       "      <td>&lt;statsmodels.regression.linear_model.Regressio...</td>\n",
       "    </tr>\n",
       "    <tr>\n",
       "      <th>8</th>\n",
       "      <td>9</td>\n",
       "      <td>[AtBat, Hits, Walks, CAtBat, CRuns, CRBI, CWal...</td>\n",
       "      <td>&lt;statsmodels.regression.linear_model.Regressio...</td>\n",
       "    </tr>\n",
       "    <tr>\n",
       "      <th>9</th>\n",
       "      <td>10</td>\n",
       "      <td>[AtBat, Hits, Walks, CAtBat, CRuns, CRBI, CWal...</td>\n",
       "      <td>&lt;statsmodels.regression.linear_model.Regressio...</td>\n",
       "    </tr>\n",
       "    <tr>\n",
       "      <th>10</th>\n",
       "      <td>11</td>\n",
       "      <td>[AtBat, Hits, Walks, CAtBat, CRuns, CRBI, CWal...</td>\n",
       "      <td>&lt;statsmodels.regression.linear_model.Regressio...</td>\n",
       "    </tr>\n",
       "    <tr>\n",
       "      <th>11</th>\n",
       "      <td>12</td>\n",
       "      <td>[AtBat, Hits, Runs, Walks, CAtBat, CRuns, CRBI...</td>\n",
       "      <td>&lt;statsmodels.regression.linear_model.Regressio...</td>\n",
       "    </tr>\n",
       "    <tr>\n",
       "      <th>12</th>\n",
       "      <td>13</td>\n",
       "      <td>[AtBat, Hits, Runs, Walks, CAtBat, CRuns, CRBI...</td>\n",
       "      <td>&lt;statsmodels.regression.linear_model.Regressio...</td>\n",
       "    </tr>\n",
       "    <tr>\n",
       "      <th>13</th>\n",
       "      <td>14</td>\n",
       "      <td>[AtBat, Hits, HmRun, Runs, Walks, CAtBat, CRun...</td>\n",
       "      <td>&lt;statsmodels.regression.linear_model.Regressio...</td>\n",
       "    </tr>\n",
       "    <tr>\n",
       "      <th>14</th>\n",
       "      <td>15</td>\n",
       "      <td>[AtBat, Hits, HmRun, Runs, Walks, CAtBat, CHit...</td>\n",
       "      <td>&lt;statsmodels.regression.linear_model.Regressio...</td>\n",
       "    </tr>\n",
       "    <tr>\n",
       "      <th>15</th>\n",
       "      <td>16</td>\n",
       "      <td>[AtBat, Hits, HmRun, Runs, RBI, Walks, CAtBat,...</td>\n",
       "      <td>&lt;statsmodels.regression.linear_model.Regressio...</td>\n",
       "    </tr>\n",
       "    <tr>\n",
       "      <th>16</th>\n",
       "      <td>17</td>\n",
       "      <td>[AtBat, Hits, HmRun, Runs, RBI, Walks, CAtBat,...</td>\n",
       "      <td>&lt;statsmodels.regression.linear_model.Regressio...</td>\n",
       "    </tr>\n",
       "    <tr>\n",
       "      <th>17</th>\n",
       "      <td>18</td>\n",
       "      <td>[AtBat, Hits, HmRun, Runs, RBI, Walks, Years, ...</td>\n",
       "      <td>&lt;statsmodels.regression.linear_model.Regressio...</td>\n",
       "    </tr>\n",
       "    <tr>\n",
       "      <th>18</th>\n",
       "      <td>19</td>\n",
       "      <td>[AtBat, Hits, HmRun, Runs, RBI, Walks, Years, ...</td>\n",
       "      <td>&lt;statsmodels.regression.linear_model.Regressio...</td>\n",
       "    </tr>\n",
       "  </tbody>\n",
       "</table>\n",
       "</div>"
      ],
      "text/plain": [
       "    num_of_features                                                sub  \\\n",
       "0                 1                                             [CRBI]   \n",
       "1                 2                                       [Hits, CRBI]   \n",
       "2                 3                              [Hits, CRBI, PutOuts]   \n",
       "3                 4                    [Hits, CRBI, Division, PutOuts]   \n",
       "4                 5             [AtBat, Hits, CRBI, Division, PutOuts]   \n",
       "5                 6      [AtBat, Hits, Walks, CRBI, Division, PutOuts]   \n",
       "6                 7  [Hits, Walks, CAtBat, CHits, CHmRun, Division,...   \n",
       "7                 8  [AtBat, Hits, Walks, CHmRun, CRuns, CWalks, Di...   \n",
       "8                 9  [AtBat, Hits, Walks, CAtBat, CRuns, CRBI, CWal...   \n",
       "9                10  [AtBat, Hits, Walks, CAtBat, CRuns, CRBI, CWal...   \n",
       "10               11  [AtBat, Hits, Walks, CAtBat, CRuns, CRBI, CWal...   \n",
       "11               12  [AtBat, Hits, Runs, Walks, CAtBat, CRuns, CRBI...   \n",
       "12               13  [AtBat, Hits, Runs, Walks, CAtBat, CRuns, CRBI...   \n",
       "13               14  [AtBat, Hits, HmRun, Runs, Walks, CAtBat, CRun...   \n",
       "14               15  [AtBat, Hits, HmRun, Runs, Walks, CAtBat, CHit...   \n",
       "15               16  [AtBat, Hits, HmRun, Runs, RBI, Walks, CAtBat,...   \n",
       "16               17  [AtBat, Hits, HmRun, Runs, RBI, Walks, CAtBat,...   \n",
       "17               18  [AtBat, Hits, HmRun, Runs, RBI, Walks, Years, ...   \n",
       "18               19  [AtBat, Hits, HmRun, Runs, RBI, Walks, Years, ...   \n",
       "\n",
       "                                                model  \n",
       "0   <statsmodels.regression.linear_model.Regressio...  \n",
       "1   <statsmodels.regression.linear_model.Regressio...  \n",
       "2   <statsmodels.regression.linear_model.Regressio...  \n",
       "3   <statsmodels.regression.linear_model.Regressio...  \n",
       "4   <statsmodels.regression.linear_model.Regressio...  \n",
       "5   <statsmodels.regression.linear_model.Regressio...  \n",
       "6   <statsmodels.regression.linear_model.Regressio...  \n",
       "7   <statsmodels.regression.linear_model.Regressio...  \n",
       "8   <statsmodels.regression.linear_model.Regressio...  \n",
       "9   <statsmodels.regression.linear_model.Regressio...  \n",
       "10  <statsmodels.regression.linear_model.Regressio...  \n",
       "11  <statsmodels.regression.linear_model.Regressio...  \n",
       "12  <statsmodels.regression.linear_model.Regressio...  \n",
       "13  <statsmodels.regression.linear_model.Regressio...  \n",
       "14  <statsmodels.regression.linear_model.Regressio...  \n",
       "15  <statsmodels.regression.linear_model.Regressio...  \n",
       "16  <statsmodels.regression.linear_model.Regressio...  \n",
       "17  <statsmodels.regression.linear_model.Regressio...  \n",
       "18  <statsmodels.regression.linear_model.Regressio...  "
      ]
     },
     "execution_count": 14,
     "metadata": {},
     "output_type": "execute_result"
    }
   ],
   "source": [
    "best_sub_results = pd.read_pickle('../data/best_subset.pkl').reset_index()\n",
    "best_sub_results"
   ]
  },
  {
   "cell_type": "code",
   "execution_count": 15,
   "id": "744f37a3",
   "metadata": {},
   "outputs": [],
   "source": [
    "aic = [best_sub_results.model[i].aic for i in range(0, len(best_sub_results.model))]\n",
    "bic = [best_sub_results.model[i].bic for i in range(0, len(best_sub_results.model))]\n",
    "r2_adj = [best_sub_results.model[i].rsquared_adj for i in range(0, len(best_sub_results.model))]\n",
    "rss = [best_sub_results.model[i].ssr for i in range(0, len(best_sub_results.model))]"
   ]
  },
  {
   "cell_type": "code",
   "execution_count": 16,
   "id": "e9c8ff14",
   "metadata": {
    "scrolled": false
   },
   "outputs": [
    {
     "data": {
      "text/plain": [
       "[<matplotlib.axis.XTick at 0x155401180>,\n",
       " <matplotlib.axis.XTick at 0x155401150>,\n",
       " <matplotlib.axis.XTick at 0x155401060>,\n",
       " <matplotlib.axis.XTick at 0x1554d2ec0>,\n",
       " <matplotlib.axis.XTick at 0x1554d36a0>,\n",
       " <matplotlib.axis.XTick at 0x1554d3e80>,\n",
       " <matplotlib.axis.XTick at 0x1554d3010>,\n",
       " <matplotlib.axis.XTick at 0x1554d3f40>,\n",
       " <matplotlib.axis.XTick at 0x1554fc850>,\n",
       " <matplotlib.axis.XTick at 0x1554fd030>,\n",
       " <matplotlib.axis.XTick at 0x1554fd810>,\n",
       " <matplotlib.axis.XTick at 0x1554af400>,\n",
       " <matplotlib.axis.XTick at 0x1554fc3a0>,\n",
       " <matplotlib.axis.XTick at 0x1554fe1d0>,\n",
       " <matplotlib.axis.XTick at 0x1554fe9b0>,\n",
       " <matplotlib.axis.XTick at 0x1554ff190>,\n",
       " <matplotlib.axis.XTick at 0x1554d2950>,\n",
       " <matplotlib.axis.XTick at 0x1554fdc30>,\n",
       " <matplotlib.axis.XTick at 0x1554ffc40>]"
      ]
     },
     "execution_count": 16,
     "metadata": {},
     "output_type": "execute_result"
    },
    {
     "data": {
      "image/png": "[encoded data removed]",
      "text/plain": [
       "<Figure size 1000x1000 with 4 Axes>"
      ]
     },
     "metadata": {},
     "output_type": "display_data"
    }
   ],
   "source": [
    "fig, axes = plt.subplots(2, 2, sharex=False, sharey=False)\n",
    "fig.set_figheight(10)\n",
    "fig.set_figwidth(10)\n",
    "fig.supxlabel('Num of Features')\n",
    "\n",
    "num_of_features = np.arange(1, 20, 1)\n",
    "\n",
    "axes[0, 0].plot(rss)\n",
    "axes[0, 0].set_title('RSS')\n",
    "axes[0, 0].set_xticks(np.arange(1, 20, 1))\n",
    "\n",
    "axes[0, 1].plot(num_of_features, r2_adj, markevery=[np.argmax(r2_adj)], marker='D')\n",
    "axes[0, 1].set_title('Adj R Squared')\n",
    "axes[0, 1].set_xticks(np.arange(1, 20, 1))\n",
    "\n",
    "axes[1, 0].plot(num_of_features, aic, markevery=[np.argmin(aic)], marker='D')\n",
    "axes[1, 0].set_title('AIC')\n",
    "axes[1, 0].set_xticks(np.arange(1, 20, 1))\n",
    "\n",
    "axes[1, 1].plot(num_of_features, bic, markevery=[np.argmin(bic)], marker='D')\n",
    "axes[1, 1].set_title('BIC')\n",
    "axes[1, 1].set_xticks(np.arange(1, 20, 1))"
   ]
  },
  {
   "cell_type": "code",
   "execution_count": 17,
   "id": "fb704448",
   "metadata": {},
   "outputs": [
    {
     "data": {
      "text/plain": [
       "const       -31.439736\n",
       "AtBat        -1.868589\n",
       "Hits          7.604398\n",
       "Walks         3.697647\n",
       "CRBI          0.643017\n",
       "Division    122.951534\n",
       "PutOuts       0.264308\n",
       "dtype: float64"
      ]
     },
     "execution_count": 17,
     "metadata": {},
     "output_type": "execute_result"
    }
   ],
   "source": [
    "# Ex.: the model with the lowest BIC is the six-variable model that contains only AtBat, \n",
    "# Hits, Walks, CRBI, DivisionW, and PutOuts. \n",
    "\n",
    "best_sub_results.model[5].params"
   ]
  },
  {
   "cell_type": "markdown",
   "id": "21510fcf",
   "metadata": {},
   "source": [
    "### Forward and Backward Stepwise Selection\n",
    "Algorithm borrowed from: [mscaudill - Github](https://github.com/mscaudill/IntroStatLearn/blob/master/notebooks/Ch6_Linear_Model_Selection_Regularization/Ch6_Lab_Subset_Selection.ipynb)"
   ]
  },
  {
   "cell_type": "code",
   "execution_count": 18,
   "id": "e61a1e12",
   "metadata": {},
   "outputs": [],
   "source": [
    "def forward_stepwise(X, y, max_features):\n",
    "    models = []\n",
    "    feature_list = []\n",
    "    remaining_features = list(X.columns)\n",
    "    \n",
    "    def update_model(current_features, remaining_features):\n",
    "        best_rss = np.inf\n",
    "        best_model = None\n",
    "        \n",
    "        for new_feature in remaining_features:\n",
    "            result = process_linear_model(feature_list + [new_feature], X, y)\n",
    "            if result[1] < best_rss:\n",
    "                best_rss = result[1]\n",
    "                best_model = result[0]\n",
    "\n",
    "        new_feature_list = list(best_model.params.index)[1:]\n",
    "        \n",
    "        return new_feature_list, best_model\n",
    "    \n",
    "    while remaining_features and len(feature_list) < max_features:\n",
    "        feature_list, best_model = update_model(feature_list, remaining_features)\n",
    "        remaining_features = [x for x in list(X.columns) if x not in feature_list]\n",
    "        models.append([feature_list, best_model])\n",
    "        \n",
    "    return models"
   ]
  },
  {
   "cell_type": "code",
   "execution_count": 19,
   "id": "3cb7bd9a",
   "metadata": {},
   "outputs": [],
   "source": [
    "models_forward = forward_stepwise(X, y, 19)"
   ]
  },
  {
   "cell_type": "code",
   "execution_count": 20,
   "id": "4a7a16d6",
   "metadata": {},
   "outputs": [
    {
     "data": {
      "text/plain": [
       "const       -17.335087\n",
       "CRBI          0.853762\n",
       "Hits          7.449877\n",
       "PutOuts       0.253340\n",
       "Division    127.122393\n",
       "AtBat        -1.958885\n",
       "Walks         4.913140\n",
       "CWalks       -0.305307\n",
       "dtype: float64"
      ]
     },
     "execution_count": 20,
     "metadata": {},
     "output_type": "execute_result"
    }
   ],
   "source": [
    "# The best seven-variable models identified by forward stepwise selection\n",
    "models_forward[6][1].params"
   ]
  },
  {
   "cell_type": "code",
   "execution_count": 21,
   "id": "b36eadfc",
   "metadata": {},
   "outputs": [],
   "source": [
    "def backward_stepwise(X, y, min_feature):\n",
    "    models = []\n",
    "    feature_list = list(X.columns)\n",
    "    \n",
    "    def update_model(feature_list):\n",
    "        best_rss = np.inf\n",
    "        best_model = None\n",
    "        best_feature_list = []\n",
    "        \n",
    "        for feature in feature_list:\n",
    "            new_feature_list = [x for x in feature_list if x != feature]\n",
    "            \n",
    "            result = process_linear_model(new_feature_list, X, y)\n",
    "            if result[1] < best_rss:\n",
    "                best_rss = result[1]\n",
    "                best_model = result[0]\n",
    "        \n",
    "        best_feature_list = list(best_model.params.index)[1:]\n",
    "        return best_feature_list, best_model\n",
    "    \n",
    "    while len(feature_list) > min_feature:\n",
    "        best_feature_list, best_model = update_model(feature_list)\n",
    "        feature_list = best_feature_list\n",
    "        models.append([feature_list, best_model])\n",
    "    \n",
    "    return models"
   ]
  },
  {
   "cell_type": "code",
   "execution_count": 22,
   "id": "80ac07e9",
   "metadata": {},
   "outputs": [],
   "source": [
    "models_backward = backward_stepwise(X, y, 0)"
   ]
  },
  {
   "cell_type": "code",
   "execution_count": 23,
   "id": "3bb5ae19",
   "metadata": {},
   "outputs": [
    {
     "data": {
      "text/plain": [
       "const       -10.520468\n",
       "AtBat        -1.976284\n",
       "Hits          6.757491\n",
       "Walks         6.055869\n",
       "CRuns         1.129309\n",
       "CWalks       -0.716335\n",
       "Division    116.169217\n",
       "PutOuts       0.302885\n",
       "dtype: float64"
      ]
     },
     "execution_count": 23,
     "metadata": {},
     "output_type": "execute_result"
    }
   ],
   "source": [
    "# The best seven-variable models identified by backward stepwise selection\n",
    "models_backward[11][1].params"
   ]
  },
  {
   "cell_type": "markdown",
   "id": "027a8f95",
   "metadata": {},
   "source": [
    "### Choosing Among Models Using the Validation-Set Approach and Cross-Validation"
   ]
  },
  {
   "cell_type": "code",
   "execution_count": 24,
   "id": "a3b8cafa",
   "metadata": {},
   "outputs": [],
   "source": [
    "from sklearn.model_selection import train_test_split\n",
    "\n",
    "X_train, X_test, y_train, y_test = train_test_split(X, y, test_size=0.5, random_state=1)"
   ]
  },
  {
   "cell_type": "code",
   "execution_count": 25,
   "id": "c85a0541",
   "metadata": {},
   "outputs": [
    {
     "name": "stderr",
     "output_type": "stream",
     "text": [
      "100%|███████████████████████████████████████████| 19/19 [09:07<00:00, 28.79s/it]\n"
     ]
    }
   ],
   "source": [
    "train_results = find_best_subset(X_train, y_train, 19, 'val_best_sub')"
   ]
  },
  {
   "cell_type": "code",
   "execution_count": 26,
   "id": "0b707e61",
   "metadata": {},
   "outputs": [],
   "source": [
    "train_results = pd.read_pickle('../data/val_best_sub.pkl')"
   ]
  },
  {
   "cell_type": "code",
   "execution_count": 27,
   "id": "0abb0496",
   "metadata": {},
   "outputs": [
    {
     "name": "stdout",
     "output_type": "stream",
     "text": [
      "[118361.56861419103, 130966.87007469594, 119625.21024441476, 134907.98853060044, 112643.0497828908, 107270.94757030439, 116458.80105100089, 106841.13014819431, 105173.66277640506, 106397.80219778312, 108477.95629842635, 108578.20210232896, 109159.87954120905, 111403.26719826671, 111938.3352414883, 112079.71684100281, 118275.23374471876, 116725.61036416858, 116690.46856661158]\n"
     ]
    }
   ],
   "source": [
    "MSEs = []\n",
    "\n",
    "for model in train_results.model:\n",
    "    features = list(model.params.index)[1:]\n",
    "    model_X_test = X_test[features]\n",
    "    pred = model.predict(sm.add_constant(model_X_test))\n",
    "    \n",
    "    MSEs.append(np.mean((pred-y_test)**2))\n",
    "\n",
    "print(MSEs)"
   ]
  },
  {
   "cell_type": "code",
   "execution_count": 28,
   "id": "6335d5a7",
   "metadata": {},
   "outputs": [
    {
     "data": {
      "text/plain": [
       "(8, 105173.66277640506)"
      ]
     },
     "execution_count": 28,
     "metadata": {},
     "output_type": "execute_result"
    }
   ],
   "source": [
    "# finding the best model among trained models with lowest test mse\n",
    "min_mse_idx, min_mse = np.argmin(MSEs), np.min(MSEs)\n",
    "min_mse_idx, min_mse"
   ]
  },
  {
   "cell_type": "code",
   "execution_count": 29,
   "id": "e1e108f6",
   "metadata": {},
   "outputs": [
    {
     "data": {
      "text/plain": [
       "const       142.787538\n",
       "AtBat        -1.972139\n",
       "Hits          5.773220\n",
       "Walks         4.363040\n",
       "CAtBat       -0.457920\n",
       "CHits         1.713801\n",
       "CHmRun        2.122356\n",
       "Division    125.778852\n",
       "PutOuts       0.399087\n",
       "Assists       0.246362\n",
       "dtype: float64"
      ]
     },
     "execution_count": 29,
     "metadata": {},
     "output_type": "execute_result"
    }
   ],
   "source": [
    "# Best subset selection result using cross-validation method\n",
    "train_results.model[min_mse_idx].params"
   ]
  },
  {
   "cell_type": "code",
   "execution_count": 30,
   "id": "4abc0de7",
   "metadata": {},
   "outputs": [
    {
     "data": {
      "text/plain": [
       "const        30.900099\n",
       "AtBat        -1.936768\n",
       "Hits          6.656721\n",
       "Walks         5.552044\n",
       "CAtBat       -0.099539\n",
       "CRuns         1.250671\n",
       "CRBI          0.661768\n",
       "CWalks       -0.777985\n",
       "Division    115.349501\n",
       "PutOuts       0.277731\n",
       "dtype: float64"
      ]
     },
     "execution_count": 30,
     "metadata": {},
     "output_type": "execute_result"
    }
   ],
   "source": [
    "# Best subset selection result for the same number of variables,\n",
    "# using all the dataset\n",
    "best_sub_results.model[min_mse_idx].params"
   ]
  },
  {
   "cell_type": "code",
   "execution_count": 31,
   "id": "5ee4d1eb",
   "metadata": {},
   "outputs": [
    {
     "data": {
      "text/plain": [
       "Text(0, 0.5, 'Test MSE')"
      ]
     },
     "execution_count": 31,
     "metadata": {},
     "output_type": "execute_result"
    },
    {
     "data": {
      "image/png": "[encoded data removed]",
      "text/plain": [
       "<Figure size 1000x500 with 1 Axes>"
      ]
     },
     "metadata": {},
     "output_type": "display_data"
    }
   ],
   "source": [
    "fig, ax = plt.subplots(figsize=(10, 5))\n",
    "\n",
    "ax.plot(np.arange(1, 20, 1), MSEs, marker='o')\n",
    "ax.plot(min_mse_idx+1, min_mse, 'rx', markersize=20)\n",
    "ax.set_xticks(np.arange(1, 20, 1))\n",
    "\n",
    "ax.set_xlabel('Number of Features')\n",
    "ax.set_ylabel('Test MSE')"
   ]
  },
  {
   "cell_type": "code",
   "execution_count": 32,
   "id": "b88063ca",
   "metadata": {
    "scrolled": true
   },
   "outputs": [
    {
     "name": "stderr",
     "output_type": "stream",
     "text": [
      "100%|███████████████████████████████████████████| 13/13 [08:55<00:00, 41.21s/it]\n",
      "100%|███████████████████████████████████████████| 13/13 [08:53<00:00, 41.06s/it]\n",
      "100%|███████████████████████████████████████████| 13/13 [09:00<00:00, 41.59s/it]\n",
      "100%|███████████████████████████████████████████| 13/13 [08:55<00:00, 41.21s/it]\n",
      "100%|███████████████████████████████████████████| 13/13 [09:00<00:00, 41.55s/it]\n",
      "100%|███████████████████████████████████████████| 13/13 [08:59<00:00, 41.52s/it]\n",
      "100%|███████████████████████████████████████████| 13/13 [09:07<00:00, 42.10s/it]\n",
      "100%|███████████████████████████████████████████| 13/13 [08:48<00:00, 40.62s/it]\n",
      "100%|███████████████████████████████████████████| 13/13 [08:46<00:00, 40.51s/it]\n",
      "100%|██████████████████████████████████████████| 13/13 [27:37<00:00, 127.48s/it]\n"
     ]
    },
    {
     "data": {
      "text/plain": [
       "[(50112.65698394925,\n",
       "  <statsmodels.regression.linear_model.RegressionResultsWrapper at 0x1571476a0>),\n",
       " (115646.27321210738,\n",
       "  <statsmodels.regression.linear_model.RegressionResultsWrapper at 0x157145f60>),\n",
       " (146478.58178404075,\n",
       "  <statsmodels.regression.linear_model.RegressionResultsWrapper at 0x15713a560>),\n",
       " (120015.17538090322,\n",
       "  <statsmodels.regression.linear_model.RegressionResultsWrapper at 0x15715ae90>),\n",
       " (181112.34272573615,\n",
       "  <statsmodels.regression.linear_model.RegressionResultsWrapper at 0x1571475b0>),\n",
       " (44894.93816313393,\n",
       "  <statsmodels.regression.linear_model.RegressionResultsWrapper at 0x15715a6e0>),\n",
       " (104453.751819396,\n",
       "  <statsmodels.regression.linear_model.RegressionResultsWrapper at 0x1571467a0>),\n",
       " (50670.413290977674,\n",
       "  <statsmodels.regression.linear_model.RegressionResultsWrapper at 0x157158700>),\n",
       " (194113.97375830828,\n",
       "  <statsmodels.regression.linear_model.RegressionResultsWrapper at 0x157147910>),\n",
       " (64581.48489161762,\n",
       "  <statsmodels.regression.linear_model.RegressionResultsWrapper at 0x157145b40>)]"
      ]
     },
     "execution_count": 32,
     "metadata": {},
     "output_type": "execute_result"
    }
   ],
   "source": [
    "# Using K-Fold Validation\n",
    "from sklearn.model_selection import KFold\n",
    "\n",
    "kf = KFold(n_splits=10, shuffle=True, random_state=17)\n",
    "kf.get_n_splits(X)\n",
    "\n",
    "kf_results = []\n",
    "for train_idx, test_idx in kf.split(X):\n",
    "    X_train, X_test = X.iloc[train_idx], X.iloc[test_idx]\n",
    "    y_train, y_test = y.iloc[train_idx], y.iloc[test_idx]\n",
    "    \n",
    "    kf_train_result = find_best_subset(X_train, y_train, 13, 'a')\n",
    "    \n",
    "    kf_MSEs = []\n",
    "    for model in kf_train_result.model:\n",
    "        features = list(model.params.index)[1:]\n",
    "        model_X_test = X_test[features]\n",
    "        pred = model.predict(sm.add_constant(model_X_test))\n",
    "\n",
    "        kf_MSEs.append(np.mean((pred-y_test)**2))\n",
    "    \n",
    "    min_mse_idx = np.argmin(kf_MSEs)\n",
    "    kf_results.append((kf_MSEs[min_mse_idx], kf_train_result.model[min_mse_idx]))\n",
    "\n",
    "kf_results"
   ]
  },
  {
   "cell_type": "code",
   "execution_count": 41,
   "id": "e70eddf8",
   "metadata": {},
   "outputs": [
    {
     "data": {
      "text/plain": [
       "107207.95920101705"
      ]
     },
     "execution_count": 41,
     "metadata": {},
     "output_type": "execute_result"
    }
   ],
   "source": [
    "# the mean MSE across folds\n",
    "test_mse = np.mean(np.array(kf_results)[:,0])\n",
    "test_mse"
   ]
  },
  {
   "cell_type": "code",
   "execution_count": null,
   "id": "590a8629",
   "metadata": {},
   "outputs": [],
   "source": []
  }
 ],
 "metadata": {
  "kernelspec": {
   "display_name": "Python 3 (ipykernel)",
   "language": "python",
   "name": "python3"
  },
  "language_info": {
   "codemirror_mode": {
    "name": "ipython",
    "version": 3
   },
   "file_extension": ".py",
   "mimetype": "text/x-python",
   "name": "python",
   "nbconvert_exporter": "python",
   "pygments_lexer": "ipython3",
   "version": "3.10.10"
  }
 },
 "nbformat": 4,
 "nbformat_minor": 5
}
