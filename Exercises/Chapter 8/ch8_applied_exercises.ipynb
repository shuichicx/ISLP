{
 "cells": [
  {
   "cell_type": "code",
   "execution_count": 1,
   "id": "0fdcc591",
   "metadata": {},
   "outputs": [],
   "source": [
    "import pandas as pd\n",
    "import numpy as np\n",
    "import matplotlib.pyplot as plt\n",
    "import graphviz\n",
    "\n",
    "from IPython.display import Image, display\n",
    "from sklearn.metrics import confusion_matrix, ConfusionMatrixDisplay, mean_squared_error\n",
    "from sklearn.model_selection import train_test_split, cross_val_score"
   ]
  },
  {
   "cell_type": "markdown",
   "id": "32eaf5e7",
   "metadata": {},
   "source": [
    "## Question 7"
   ]
  },
  {
   "cell_type": "code",
   "execution_count": 2,
   "id": "79bf92c6",
   "metadata": {},
   "outputs": [
    {
     "data": {
      "text/html": [
       "<div>\n",
       "<style scoped>\n",
       "    .dataframe tbody tr th:only-of-type {\n",
       "        vertical-align: middle;\n",
       "    }\n",
       "\n",
       "    .dataframe tbody tr th {\n",
       "        vertical-align: top;\n",
       "    }\n",
       "\n",
       "    .dataframe thead th {\n",
       "        text-align: right;\n",
       "    }\n",
       "</style>\n",
       "<table border=\"1\" class=\"dataframe\">\n",
       "  <thead>\n",
       "    <tr style=\"text-align: right;\">\n",
       "      <th></th>\n",
       "      <th>crim</th>\n",
       "      <th>zn</th>\n",
       "      <th>indus</th>\n",
       "      <th>chas</th>\n",
       "      <th>nox</th>\n",
       "      <th>rm</th>\n",
       "      <th>age</th>\n",
       "      <th>dis</th>\n",
       "      <th>rad</th>\n",
       "      <th>tax</th>\n",
       "      <th>ptratio</th>\n",
       "      <th>lstat</th>\n",
       "      <th>medv</th>\n",
       "    </tr>\n",
       "  </thead>\n",
       "  <tbody>\n",
       "    <tr>\n",
       "      <th>1</th>\n",
       "      <td>0.00632</td>\n",
       "      <td>18.0</td>\n",
       "      <td>2.31</td>\n",
       "      <td>0</td>\n",
       "      <td>0.538</td>\n",
       "      <td>6.575</td>\n",
       "      <td>65.2</td>\n",
       "      <td>4.0900</td>\n",
       "      <td>1</td>\n",
       "      <td>296</td>\n",
       "      <td>15.3</td>\n",
       "      <td>4.98</td>\n",
       "      <td>24.0</td>\n",
       "    </tr>\n",
       "    <tr>\n",
       "      <th>2</th>\n",
       "      <td>0.02731</td>\n",
       "      <td>0.0</td>\n",
       "      <td>7.07</td>\n",
       "      <td>0</td>\n",
       "      <td>0.469</td>\n",
       "      <td>6.421</td>\n",
       "      <td>78.9</td>\n",
       "      <td>4.9671</td>\n",
       "      <td>2</td>\n",
       "      <td>242</td>\n",
       "      <td>17.8</td>\n",
       "      <td>9.14</td>\n",
       "      <td>21.6</td>\n",
       "    </tr>\n",
       "    <tr>\n",
       "      <th>3</th>\n",
       "      <td>0.02729</td>\n",
       "      <td>0.0</td>\n",
       "      <td>7.07</td>\n",
       "      <td>0</td>\n",
       "      <td>0.469</td>\n",
       "      <td>7.185</td>\n",
       "      <td>61.1</td>\n",
       "      <td>4.9671</td>\n",
       "      <td>2</td>\n",
       "      <td>242</td>\n",
       "      <td>17.8</td>\n",
       "      <td>4.03</td>\n",
       "      <td>34.7</td>\n",
       "    </tr>\n",
       "    <tr>\n",
       "      <th>4</th>\n",
       "      <td>0.03237</td>\n",
       "      <td>0.0</td>\n",
       "      <td>2.18</td>\n",
       "      <td>0</td>\n",
       "      <td>0.458</td>\n",
       "      <td>6.998</td>\n",
       "      <td>45.8</td>\n",
       "      <td>6.0622</td>\n",
       "      <td>3</td>\n",
       "      <td>222</td>\n",
       "      <td>18.7</td>\n",
       "      <td>2.94</td>\n",
       "      <td>33.4</td>\n",
       "    </tr>\n",
       "    <tr>\n",
       "      <th>5</th>\n",
       "      <td>0.06905</td>\n",
       "      <td>0.0</td>\n",
       "      <td>2.18</td>\n",
       "      <td>0</td>\n",
       "      <td>0.458</td>\n",
       "      <td>7.147</td>\n",
       "      <td>54.2</td>\n",
       "      <td>6.0622</td>\n",
       "      <td>3</td>\n",
       "      <td>222</td>\n",
       "      <td>18.7</td>\n",
       "      <td>5.33</td>\n",
       "      <td>36.2</td>\n",
       "    </tr>\n",
       "  </tbody>\n",
       "</table>\n",
       "</div>"
      ],
      "text/plain": [
       "      crim    zn  indus  chas    nox     rm   age     dis  rad  tax  ptratio  \\\n",
       "1  0.00632  18.0   2.31     0  0.538  6.575  65.2  4.0900    1  296     15.3   \n",
       "2  0.02731   0.0   7.07     0  0.469  6.421  78.9  4.9671    2  242     17.8   \n",
       "3  0.02729   0.0   7.07     0  0.469  7.185  61.1  4.9671    2  242     17.8   \n",
       "4  0.03237   0.0   2.18     0  0.458  6.998  45.8  6.0622    3  222     18.7   \n",
       "5  0.06905   0.0   2.18     0  0.458  7.147  54.2  6.0622    3  222     18.7   \n",
       "\n",
       "   lstat  medv  \n",
       "1   4.98  24.0  \n",
       "2   9.14  21.6  \n",
       "3   4.03  34.7  \n",
       "4   2.94  33.4  \n",
       "5   5.33  36.2  "
      ]
     },
     "execution_count": 2,
     "metadata": {},
     "output_type": "execute_result"
    }
   ],
   "source": [
    "boston = pd.read_csv('../../data/boston.csv', index_col=0)\n",
    "boston.head()"
   ]
  },
  {
   "cell_type": "code",
   "execution_count": 3,
   "id": "62e48f7d",
   "metadata": {},
   "outputs": [],
   "source": [
    "X = boston.drop(['medv'], axis=1)\n",
    "y = boston.medv\n",
    "\n",
    "X_train, X_test, y_train, y_test = train_test_split(X, y, test_size=0.5, random_state=1)"
   ]
  },
  {
   "cell_type": "code",
   "execution_count": 4,
   "id": "1306cdb2",
   "metadata": {},
   "outputs": [],
   "source": [
    "from sklearn.ensemble import RandomForestRegressor\n",
    "\n",
    "errors = np.zeros((20, 11))\n",
    "\n",
    "for idx, n_features in enumerate(range(1, 13, 2)):\n",
    "    tree_err = []\n",
    "    \n",
    "    for n_trees in range(25, 501, 25):\n",
    "        regr = RandomForestRegressor(n_estimators=n_trees, criterion='squared_error', max_features=n_features,\n",
    "                                    bootstrap=True, oob_score=True, random_state=1).fit(X_train, y_train)\n",
    "        \n",
    "        tree_err.append(np.mean((regr.predict(X_test) - y_test)**2))\n",
    "    errors[:, idx] = tree_err"
   ]
  },
  {
   "cell_type": "code",
   "execution_count": 5,
   "id": "1b0916a9",
   "metadata": {},
   "outputs": [
    {
     "data": {
      "text/plain": [
       "<matplotlib.legend.Legend at 0x13fa5e860>"
      ]
     },
     "execution_count": 5,
     "metadata": {},
     "output_type": "execute_result"
    },
    {
     "data": {
      "image/png": "[encoded data removed]",
      "text/plain": [
       "<Figure size 1000x600 with 1 Axes>"
      ]
     },
     "metadata": {},
     "output_type": "display_data"
    }
   ],
   "source": [
    "fig, ax = plt.subplots(1, 1, figsize=(10, 6))\n",
    "\n",
    "for idx, n_features in enumerate(range(1, 13, 2)):\n",
    "    ax.plot(np.arange(25, 501, 25), errors[:, idx], label=f'#FTR: {n_features}')\n",
    "    \n",
    "ax.set_xlabel('Number of Trees')\n",
    "ax.set_ylabel('Test Error')\n",
    "ax.legend()"
   ]
  },
  {
   "cell_type": "markdown",
   "id": "4dfd4b19",
   "metadata": {},
   "source": [
    "## Question 8\n",
    "\n",
    "### 8.a"
   ]
  },
  {
   "cell_type": "code",
   "execution_count": 6,
   "id": "4b8810eb",
   "metadata": {},
   "outputs": [
    {
     "data": {
      "text/html": [
       "<div>\n",
       "<style scoped>\n",
       "    .dataframe tbody tr th:only-of-type {\n",
       "        vertical-align: middle;\n",
       "    }\n",
       "\n",
       "    .dataframe tbody tr th {\n",
       "        vertical-align: top;\n",
       "    }\n",
       "\n",
       "    .dataframe thead th {\n",
       "        text-align: right;\n",
       "    }\n",
       "</style>\n",
       "<table border=\"1\" class=\"dataframe\">\n",
       "  <thead>\n",
       "    <tr style=\"text-align: right;\">\n",
       "      <th></th>\n",
       "      <th>Sales</th>\n",
       "      <th>CompPrice</th>\n",
       "      <th>Income</th>\n",
       "      <th>Advertising</th>\n",
       "      <th>Population</th>\n",
       "      <th>Price</th>\n",
       "      <th>Age</th>\n",
       "      <th>Education</th>\n",
       "      <th>ShelveLoc_Bad</th>\n",
       "      <th>ShelveLoc_Good</th>\n",
       "      <th>ShelveLoc_Medium</th>\n",
       "      <th>Urban_No</th>\n",
       "      <th>Urban_Yes</th>\n",
       "      <th>US_No</th>\n",
       "      <th>US_Yes</th>\n",
       "    </tr>\n",
       "  </thead>\n",
       "  <tbody>\n",
       "    <tr>\n",
       "      <th>0</th>\n",
       "      <td>9.50</td>\n",
       "      <td>138</td>\n",
       "      <td>73</td>\n",
       "      <td>11</td>\n",
       "      <td>276</td>\n",
       "      <td>120</td>\n",
       "      <td>42</td>\n",
       "      <td>17</td>\n",
       "      <td>1</td>\n",
       "      <td>0</td>\n",
       "      <td>0</td>\n",
       "      <td>0</td>\n",
       "      <td>1</td>\n",
       "      <td>0</td>\n",
       "      <td>1</td>\n",
       "    </tr>\n",
       "    <tr>\n",
       "      <th>1</th>\n",
       "      <td>11.22</td>\n",
       "      <td>111</td>\n",
       "      <td>48</td>\n",
       "      <td>16</td>\n",
       "      <td>260</td>\n",
       "      <td>83</td>\n",
       "      <td>65</td>\n",
       "      <td>10</td>\n",
       "      <td>0</td>\n",
       "      <td>1</td>\n",
       "      <td>0</td>\n",
       "      <td>0</td>\n",
       "      <td>1</td>\n",
       "      <td>0</td>\n",
       "      <td>1</td>\n",
       "    </tr>\n",
       "    <tr>\n",
       "      <th>2</th>\n",
       "      <td>10.06</td>\n",
       "      <td>113</td>\n",
       "      <td>35</td>\n",
       "      <td>10</td>\n",
       "      <td>269</td>\n",
       "      <td>80</td>\n",
       "      <td>59</td>\n",
       "      <td>12</td>\n",
       "      <td>0</td>\n",
       "      <td>0</td>\n",
       "      <td>1</td>\n",
       "      <td>0</td>\n",
       "      <td>1</td>\n",
       "      <td>0</td>\n",
       "      <td>1</td>\n",
       "    </tr>\n",
       "    <tr>\n",
       "      <th>3</th>\n",
       "      <td>7.40</td>\n",
       "      <td>117</td>\n",
       "      <td>100</td>\n",
       "      <td>4</td>\n",
       "      <td>466</td>\n",
       "      <td>97</td>\n",
       "      <td>55</td>\n",
       "      <td>14</td>\n",
       "      <td>0</td>\n",
       "      <td>0</td>\n",
       "      <td>1</td>\n",
       "      <td>0</td>\n",
       "      <td>1</td>\n",
       "      <td>0</td>\n",
       "      <td>1</td>\n",
       "    </tr>\n",
       "    <tr>\n",
       "      <th>4</th>\n",
       "      <td>4.15</td>\n",
       "      <td>141</td>\n",
       "      <td>64</td>\n",
       "      <td>3</td>\n",
       "      <td>340</td>\n",
       "      <td>128</td>\n",
       "      <td>38</td>\n",
       "      <td>13</td>\n",
       "      <td>1</td>\n",
       "      <td>0</td>\n",
       "      <td>0</td>\n",
       "      <td>0</td>\n",
       "      <td>1</td>\n",
       "      <td>1</td>\n",
       "      <td>0</td>\n",
       "    </tr>\n",
       "  </tbody>\n",
       "</table>\n",
       "</div>"
      ],
      "text/plain": [
       "   Sales  CompPrice  Income  Advertising  Population  Price  Age  Education  \\\n",
       "0   9.50        138      73           11         276    120   42         17   \n",
       "1  11.22        111      48           16         260     83   65         10   \n",
       "2  10.06        113      35           10         269     80   59         12   \n",
       "3   7.40        117     100            4         466     97   55         14   \n",
       "4   4.15        141      64            3         340    128   38         13   \n",
       "\n",
       "   ShelveLoc_Bad  ShelveLoc_Good  ShelveLoc_Medium  Urban_No  Urban_Yes  \\\n",
       "0              1               0                 0         0          1   \n",
       "1              0               1                 0         0          1   \n",
       "2              0               0                 1         0          1   \n",
       "3              0               0                 1         0          1   \n",
       "4              1               0                 0         0          1   \n",
       "\n",
       "   US_No  US_Yes  \n",
       "0      0       1  \n",
       "1      0       1  \n",
       "2      0       1  \n",
       "3      0       1  \n",
       "4      1       0  "
      ]
     },
     "execution_count": 6,
     "metadata": {},
     "output_type": "execute_result"
    }
   ],
   "source": [
    "carseats = pd.read_csv('../../data/carseats.csv')\n",
    "carseats = pd.get_dummies(carseats, columns=['ShelveLoc', 'Urban', 'US'])\n",
    "carseats.head()"
   ]
  },
  {
   "cell_type": "code",
   "execution_count": 7,
   "id": "be78cd53",
   "metadata": {},
   "outputs": [],
   "source": [
    "X = carseats.drop(['Sales'], axis=1)\n",
    "y = carseats.Sales\n",
    "\n",
    "X_train, X_test, y_train, y_test = train_test_split(X, y, test_size=0.4, random_state=1)"
   ]
  },
  {
   "cell_type": "markdown",
   "id": "c1b46dad",
   "metadata": {},
   "source": [
    "### 8.b"
   ]
  },
  {
   "cell_type": "code",
   "execution_count": 8,
   "id": "7905d057",
   "metadata": {},
   "outputs": [],
   "source": [
    "from sklearn import tree\n",
    "\n",
    "tree_reg = tree.DecisionTreeRegressor(criterion='squared_error', splitter='best', \n",
    "                                      min_samples_split=20, random_state=1)\n",
    "\n",
    "tree_est = tree_reg.fit(X_train, y_train)"
   ]
  },
  {
   "cell_type": "code",
   "execution_count": 9,
   "id": "d123b5f8",
   "metadata": {},
   "outputs": [
    {
     "name": "stdout",
     "output_type": "stream",
     "text": [
      "Training MSE:  1.8661296939226442\n"
     ]
    }
   ],
   "source": [
    "print('Training MSE: ', np.mean((tree_est.predict(X_train) - y_train)**2))"
   ]
  },
  {
   "cell_type": "code",
   "execution_count": 10,
   "id": "2d94735a",
   "metadata": {},
   "outputs": [
    {
     "data": {
      "text/html": [
       "<div>\n",
       "<style scoped>\n",
       "    .dataframe tbody tr th:only-of-type {\n",
       "        vertical-align: middle;\n",
       "    }\n",
       "\n",
       "    .dataframe tbody tr th {\n",
       "        vertical-align: top;\n",
       "    }\n",
       "\n",
       "    .dataframe thead th {\n",
       "        text-align: right;\n",
       "    }\n",
       "</style>\n",
       "<table border=\"1\" class=\"dataframe\">\n",
       "  <thead>\n",
       "    <tr style=\"text-align: right;\">\n",
       "      <th></th>\n",
       "      <th>Importances</th>\n",
       "    </tr>\n",
       "  </thead>\n",
       "  <tbody>\n",
       "    <tr>\n",
       "      <th>Price</th>\n",
       "      <td>0.336842</td>\n",
       "    </tr>\n",
       "    <tr>\n",
       "      <th>ShelveLoc_Good</th>\n",
       "      <td>0.302124</td>\n",
       "    </tr>\n",
       "    <tr>\n",
       "      <th>ShelveLoc_Bad</th>\n",
       "      <td>0.120917</td>\n",
       "    </tr>\n",
       "    <tr>\n",
       "      <th>Age</th>\n",
       "      <td>0.117835</td>\n",
       "    </tr>\n",
       "    <tr>\n",
       "      <th>CompPrice</th>\n",
       "      <td>0.074041</td>\n",
       "    </tr>\n",
       "    <tr>\n",
       "      <th>Advertising</th>\n",
       "      <td>0.026873</td>\n",
       "    </tr>\n",
       "    <tr>\n",
       "      <th>Education</th>\n",
       "      <td>0.011677</td>\n",
       "    </tr>\n",
       "    <tr>\n",
       "      <th>Income</th>\n",
       "      <td>0.009692</td>\n",
       "    </tr>\n",
       "    <tr>\n",
       "      <th>Population</th>\n",
       "      <td>0.000000</td>\n",
       "    </tr>\n",
       "    <tr>\n",
       "      <th>ShelveLoc_Medium</th>\n",
       "      <td>0.000000</td>\n",
       "    </tr>\n",
       "    <tr>\n",
       "      <th>Urban_No</th>\n",
       "      <td>0.000000</td>\n",
       "    </tr>\n",
       "    <tr>\n",
       "      <th>Urban_Yes</th>\n",
       "      <td>0.000000</td>\n",
       "    </tr>\n",
       "    <tr>\n",
       "      <th>US_No</th>\n",
       "      <td>0.000000</td>\n",
       "    </tr>\n",
       "    <tr>\n",
       "      <th>US_Yes</th>\n",
       "      <td>0.000000</td>\n",
       "    </tr>\n",
       "  </tbody>\n",
       "</table>\n",
       "</div>"
      ],
      "text/plain": [
       "                  Importances\n",
       "Price                0.336842\n",
       "ShelveLoc_Good       0.302124\n",
       "ShelveLoc_Bad        0.120917\n",
       "Age                  0.117835\n",
       "CompPrice            0.074041\n",
       "Advertising          0.026873\n",
       "Education            0.011677\n",
       "Income               0.009692\n",
       "Population           0.000000\n",
       "ShelveLoc_Medium     0.000000\n",
       "Urban_No             0.000000\n",
       "Urban_Yes            0.000000\n",
       "US_No                0.000000\n",
       "US_Yes               0.000000"
      ]
     },
     "execution_count": 10,
     "metadata": {},
     "output_type": "execute_result"
    }
   ],
   "source": [
    "ftr_imp = pd.DataFrame(tree_est.feature_importances_, index=X.columns, columns=['Importances'])\n",
    "ftr_imp = ftr_imp.sort_values(axis=0, ascending=False, by='Importances')\n",
    "ftr_imp"
   ]
  },
  {
   "cell_type": "code",
   "execution_count": null,
   "id": "391f98f9",
   "metadata": {},
   "outputs": [],
   "source": [
    "dot_data = tree.export_graphviz(tree_est, out_file='tree2.dot', feature_names=X.columns, \n",
    "                               filled=True, rounded=True, special_characters=True)\n",
    "\n",
    "with open('tree2.dot') as f:\n",
    "    dot_graph = f.read()\n",
    "    \n",
    "graph = graphviz.Source(dot_graph, format='png', engine='dot')\n",
    "Image(graph.render())"
   ]
  },
  {
   "cell_type": "markdown",
   "id": "538f93b6",
   "metadata": {},
   "source": [
    "### 8.c"
   ]
  },
  {
   "cell_type": "code",
   "execution_count": 12,
   "id": "2e4fe2ef",
   "metadata": {},
   "outputs": [
    {
     "name": "stdout",
     "output_type": "stream",
     "text": [
      "Test MSE:  5.861453688554235\n"
     ]
    }
   ],
   "source": [
    "print('Test MSE: ', np.mean((tree_est.predict(X_test) - y_test)**2))"
   ]
  },
  {
   "cell_type": "markdown",
   "id": "8d0d4cec",
   "metadata": {},
   "source": [
    "### 8.d"
   ]
  },
  {
   "cell_type": "code",
   "execution_count": 13,
   "id": "6acd19ce",
   "metadata": {},
   "outputs": [],
   "source": [
    "# Bagging\n",
    "\n",
    "from sklearn.ensemble import BaggingRegressor\n",
    "\n",
    "bagger = BaggingRegressor(n_estimators=500, max_features=X_train.shape[1],\n",
    "                         bootstrap=True, oob_score=True, random_state=1)\n",
    "\n",
    "bagger_est = bagger.fit(X_train, y_train)"
   ]
  },
  {
   "cell_type": "code",
   "execution_count": 14,
   "id": "b629570c",
   "metadata": {},
   "outputs": [
    {
     "data": {
      "text/plain": [
       "0.6704212140235493"
      ]
     },
     "execution_count": 14,
     "metadata": {},
     "output_type": "execute_result"
    }
   ],
   "source": [
    "# Score of the training dataset obtained using an out-of-bag estimate\n",
    "bagger_est.oob_score_"
   ]
  },
  {
   "cell_type": "code",
   "execution_count": 15,
   "id": "c8c4a702",
   "metadata": {},
   "outputs": [
    {
     "name": "stdout",
     "output_type": "stream",
     "text": [
      "Training MSE:  0.35974545601166513\n"
     ]
    }
   ],
   "source": [
    "print('Training MSE: ', np.mean((bagger_est.predict(X_train) - y_train)**2))"
   ]
  },
  {
   "cell_type": "code",
   "execution_count": 16,
   "id": "9bee3dd6",
   "metadata": {},
   "outputs": [
    {
     "name": "stdout",
     "output_type": "stream",
     "text": [
      "Test MSE:  2.9134626570700064\n"
     ]
    }
   ],
   "source": [
    "print('Test MSE: ', np.mean((bagger_est.predict(X_test) - y_test)**2))"
   ]
  },
  {
   "cell_type": "markdown",
   "id": "6fbcf986",
   "metadata": {},
   "source": [
    "### 8.e"
   ]
  },
  {
   "cell_type": "code",
   "execution_count": 17,
   "id": "0ccdf977",
   "metadata": {},
   "outputs": [],
   "source": [
    "regr = RandomForestRegressor(n_estimators=500, criterion='squared_error', max_features=n_features,\n",
    "                                    bootstrap=True, oob_score=True, random_state=1)\n",
    "\n",
    "regr_est = regr.fit(X_train, y_train)"
   ]
  },
  {
   "cell_type": "code",
   "execution_count": 18,
   "id": "168bdfac",
   "metadata": {},
   "outputs": [
    {
     "data": {
      "text/plain": [
       "0.6689866968029845"
      ]
     },
     "execution_count": 18,
     "metadata": {},
     "output_type": "execute_result"
    }
   ],
   "source": [
    "# Score of the training dataset obtained using an out-of-bag estimate\n",
    "regr_est.oob_score_"
   ]
  },
  {
   "cell_type": "code",
   "execution_count": 19,
   "id": "75606b5c",
   "metadata": {},
   "outputs": [
    {
     "name": "stdout",
     "output_type": "stream",
     "text": [
      "Training MSE:  0.3607265066449981\n"
     ]
    }
   ],
   "source": [
    "print('Training MSE: ', np.mean((regr_est.predict(X_train) - y_train)**2))"
   ]
  },
  {
   "cell_type": "code",
   "execution_count": 20,
   "id": "99998213",
   "metadata": {},
   "outputs": [
    {
     "name": "stdout",
     "output_type": "stream",
     "text": [
      "Test MSE:  2.9535801218225033\n"
     ]
    }
   ],
   "source": [
    "print('Test MSE: ', np.mean((regr_est.predict(X_test) - y_test)**2))"
   ]
  },
  {
   "cell_type": "code",
   "execution_count": 21,
   "id": "c16524ae",
   "metadata": {},
   "outputs": [
    {
     "data": {
      "text/html": [
       "<div>\n",
       "<style scoped>\n",
       "    .dataframe tbody tr th:only-of-type {\n",
       "        vertical-align: middle;\n",
       "    }\n",
       "\n",
       "    .dataframe tbody tr th {\n",
       "        vertical-align: top;\n",
       "    }\n",
       "\n",
       "    .dataframe thead th {\n",
       "        text-align: right;\n",
       "    }\n",
       "</style>\n",
       "<table border=\"1\" class=\"dataframe\">\n",
       "  <thead>\n",
       "    <tr style=\"text-align: right;\">\n",
       "      <th></th>\n",
       "      <th>Importances</th>\n",
       "    </tr>\n",
       "  </thead>\n",
       "  <tbody>\n",
       "    <tr>\n",
       "      <th>Price</th>\n",
       "      <td>0.280917</td>\n",
       "    </tr>\n",
       "    <tr>\n",
       "      <th>ShelveLoc_Good</th>\n",
       "      <td>0.157841</td>\n",
       "    </tr>\n",
       "    <tr>\n",
       "      <th>ShelveLoc_Bad</th>\n",
       "      <td>0.134636</td>\n",
       "    </tr>\n",
       "    <tr>\n",
       "      <th>Age</th>\n",
       "      <td>0.093829</td>\n",
       "    </tr>\n",
       "    <tr>\n",
       "      <th>CompPrice</th>\n",
       "      <td>0.083848</td>\n",
       "    </tr>\n",
       "    <tr>\n",
       "      <th>Advertising</th>\n",
       "      <td>0.062695</td>\n",
       "    </tr>\n",
       "    <tr>\n",
       "      <th>Income</th>\n",
       "      <td>0.049990</td>\n",
       "    </tr>\n",
       "    <tr>\n",
       "      <th>Population</th>\n",
       "      <td>0.045152</td>\n",
       "    </tr>\n",
       "    <tr>\n",
       "      <th>ShelveLoc_Medium</th>\n",
       "      <td>0.044204</td>\n",
       "    </tr>\n",
       "    <tr>\n",
       "      <th>Education</th>\n",
       "      <td>0.029805</td>\n",
       "    </tr>\n",
       "    <tr>\n",
       "      <th>US_Yes</th>\n",
       "      <td>0.004594</td>\n",
       "    </tr>\n",
       "    <tr>\n",
       "      <th>Urban_No</th>\n",
       "      <td>0.004580</td>\n",
       "    </tr>\n",
       "    <tr>\n",
       "      <th>US_No</th>\n",
       "      <td>0.004045</td>\n",
       "    </tr>\n",
       "    <tr>\n",
       "      <th>Urban_Yes</th>\n",
       "      <td>0.003863</td>\n",
       "    </tr>\n",
       "  </tbody>\n",
       "</table>\n",
       "</div>"
      ],
      "text/plain": [
       "                  Importances\n",
       "Price                0.280917\n",
       "ShelveLoc_Good       0.157841\n",
       "ShelveLoc_Bad        0.134636\n",
       "Age                  0.093829\n",
       "CompPrice            0.083848\n",
       "Advertising          0.062695\n",
       "Income               0.049990\n",
       "Population           0.045152\n",
       "ShelveLoc_Medium     0.044204\n",
       "Education            0.029805\n",
       "US_Yes               0.004594\n",
       "Urban_No             0.004580\n",
       "US_No                0.004045\n",
       "Urban_Yes            0.003863"
      ]
     },
     "execution_count": 21,
     "metadata": {},
     "output_type": "execute_result"
    }
   ],
   "source": [
    "ftr_imp = pd.DataFrame(regr_est.feature_importances_, index=X.columns, columns=['Importances'])\n",
    "ftr_imp = ftr_imp.sort_values(axis=0, ascending=False, by='Importances')\n",
    "ftr_imp"
   ]
  },
  {
   "cell_type": "markdown",
   "id": "d7478000",
   "metadata": {},
   "source": [
    "## Question 9"
   ]
  },
  {
   "cell_type": "code",
   "execution_count": 22,
   "id": "af5d15e4",
   "metadata": {},
   "outputs": [
    {
     "data": {
      "text/html": [
       "<div>\n",
       "<style scoped>\n",
       "    .dataframe tbody tr th:only-of-type {\n",
       "        vertical-align: middle;\n",
       "    }\n",
       "\n",
       "    .dataframe tbody tr th {\n",
       "        vertical-align: top;\n",
       "    }\n",
       "\n",
       "    .dataframe thead th {\n",
       "        text-align: right;\n",
       "    }\n",
       "</style>\n",
       "<table border=\"1\" class=\"dataframe\">\n",
       "  <thead>\n",
       "    <tr style=\"text-align: right;\">\n",
       "      <th></th>\n",
       "      <th>Purchase</th>\n",
       "      <th>WeekofPurchase</th>\n",
       "      <th>StoreID</th>\n",
       "      <th>PriceCH</th>\n",
       "      <th>PriceMM</th>\n",
       "      <th>DiscCH</th>\n",
       "      <th>DiscMM</th>\n",
       "      <th>SpecialCH</th>\n",
       "      <th>SpecialMM</th>\n",
       "      <th>LoyalCH</th>\n",
       "      <th>SalePriceMM</th>\n",
       "      <th>SalePriceCH</th>\n",
       "      <th>PriceDiff</th>\n",
       "      <th>Store7</th>\n",
       "      <th>PctDiscMM</th>\n",
       "      <th>PctDiscCH</th>\n",
       "      <th>ListPriceDiff</th>\n",
       "      <th>STORE</th>\n",
       "    </tr>\n",
       "  </thead>\n",
       "  <tbody>\n",
       "    <tr>\n",
       "      <th>0</th>\n",
       "      <td>CH</td>\n",
       "      <td>237</td>\n",
       "      <td>1</td>\n",
       "      <td>1.75</td>\n",
       "      <td>1.99</td>\n",
       "      <td>0.00</td>\n",
       "      <td>0.0</td>\n",
       "      <td>0</td>\n",
       "      <td>0</td>\n",
       "      <td>0.500000</td>\n",
       "      <td>1.99</td>\n",
       "      <td>1.75</td>\n",
       "      <td>0.24</td>\n",
       "      <td>No</td>\n",
       "      <td>0.000000</td>\n",
       "      <td>0.000000</td>\n",
       "      <td>0.24</td>\n",
       "      <td>1</td>\n",
       "    </tr>\n",
       "    <tr>\n",
       "      <th>1</th>\n",
       "      <td>CH</td>\n",
       "      <td>239</td>\n",
       "      <td>1</td>\n",
       "      <td>1.75</td>\n",
       "      <td>1.99</td>\n",
       "      <td>0.00</td>\n",
       "      <td>0.3</td>\n",
       "      <td>0</td>\n",
       "      <td>1</td>\n",
       "      <td>0.600000</td>\n",
       "      <td>1.69</td>\n",
       "      <td>1.75</td>\n",
       "      <td>-0.06</td>\n",
       "      <td>No</td>\n",
       "      <td>0.150754</td>\n",
       "      <td>0.000000</td>\n",
       "      <td>0.24</td>\n",
       "      <td>1</td>\n",
       "    </tr>\n",
       "    <tr>\n",
       "      <th>2</th>\n",
       "      <td>CH</td>\n",
       "      <td>245</td>\n",
       "      <td>1</td>\n",
       "      <td>1.86</td>\n",
       "      <td>2.09</td>\n",
       "      <td>0.17</td>\n",
       "      <td>0.0</td>\n",
       "      <td>0</td>\n",
       "      <td>0</td>\n",
       "      <td>0.680000</td>\n",
       "      <td>2.09</td>\n",
       "      <td>1.69</td>\n",
       "      <td>0.40</td>\n",
       "      <td>No</td>\n",
       "      <td>0.000000</td>\n",
       "      <td>0.091398</td>\n",
       "      <td>0.23</td>\n",
       "      <td>1</td>\n",
       "    </tr>\n",
       "    <tr>\n",
       "      <th>3</th>\n",
       "      <td>MM</td>\n",
       "      <td>227</td>\n",
       "      <td>1</td>\n",
       "      <td>1.69</td>\n",
       "      <td>1.69</td>\n",
       "      <td>0.00</td>\n",
       "      <td>0.0</td>\n",
       "      <td>0</td>\n",
       "      <td>0</td>\n",
       "      <td>0.400000</td>\n",
       "      <td>1.69</td>\n",
       "      <td>1.69</td>\n",
       "      <td>0.00</td>\n",
       "      <td>No</td>\n",
       "      <td>0.000000</td>\n",
       "      <td>0.000000</td>\n",
       "      <td>0.00</td>\n",
       "      <td>1</td>\n",
       "    </tr>\n",
       "    <tr>\n",
       "      <th>4</th>\n",
       "      <td>CH</td>\n",
       "      <td>228</td>\n",
       "      <td>7</td>\n",
       "      <td>1.69</td>\n",
       "      <td>1.69</td>\n",
       "      <td>0.00</td>\n",
       "      <td>0.0</td>\n",
       "      <td>0</td>\n",
       "      <td>0</td>\n",
       "      <td>0.956535</td>\n",
       "      <td>1.69</td>\n",
       "      <td>1.69</td>\n",
       "      <td>0.00</td>\n",
       "      <td>Yes</td>\n",
       "      <td>0.000000</td>\n",
       "      <td>0.000000</td>\n",
       "      <td>0.00</td>\n",
       "      <td>0</td>\n",
       "    </tr>\n",
       "  </tbody>\n",
       "</table>\n",
       "</div>"
      ],
      "text/plain": [
       "  Purchase  WeekofPurchase  StoreID  PriceCH  PriceMM  DiscCH  DiscMM  \\\n",
       "0       CH             237        1     1.75     1.99    0.00     0.0   \n",
       "1       CH             239        1     1.75     1.99    0.00     0.3   \n",
       "2       CH             245        1     1.86     2.09    0.17     0.0   \n",
       "3       MM             227        1     1.69     1.69    0.00     0.0   \n",
       "4       CH             228        7     1.69     1.69    0.00     0.0   \n",
       "\n",
       "   SpecialCH  SpecialMM   LoyalCH  SalePriceMM  SalePriceCH  PriceDiff Store7  \\\n",
       "0          0          0  0.500000         1.99         1.75       0.24     No   \n",
       "1          0          1  0.600000         1.69         1.75      -0.06     No   \n",
       "2          0          0  0.680000         2.09         1.69       0.40     No   \n",
       "3          0          0  0.400000         1.69         1.69       0.00     No   \n",
       "4          0          0  0.956535         1.69         1.69       0.00    Yes   \n",
       "\n",
       "   PctDiscMM  PctDiscCH  ListPriceDiff  STORE  \n",
       "0   0.000000   0.000000           0.24      1  \n",
       "1   0.150754   0.000000           0.24      1  \n",
       "2   0.000000   0.091398           0.23      1  \n",
       "3   0.000000   0.000000           0.00      1  \n",
       "4   0.000000   0.000000           0.00      0  "
      ]
     },
     "execution_count": 22,
     "metadata": {},
     "output_type": "execute_result"
    }
   ],
   "source": [
    "oj = pd.read_csv('../../data/oj.csv')\n",
    "oj.head()"
   ]
  },
  {
   "cell_type": "code",
   "execution_count": 23,
   "id": "4bac990c",
   "metadata": {},
   "outputs": [
    {
     "data": {
      "text/plain": [
       "CH    653\n",
       "MM    417\n",
       "Name: Purchase, dtype: int64"
      ]
     },
     "execution_count": 23,
     "metadata": {},
     "output_type": "execute_result"
    }
   ],
   "source": [
    "oj.Purchase.value_counts()"
   ]
  },
  {
   "cell_type": "code",
   "execution_count": 24,
   "id": "e7268f97",
   "metadata": {},
   "outputs": [],
   "source": [
    "oj = pd.get_dummies(oj, columns=['Purchase', 'Store7', ])\n",
    "oj.drop(['Purchase_MM', 'Store7_No'], axis=1, inplace=True)"
   ]
  },
  {
   "cell_type": "markdown",
   "id": "2a25a627",
   "metadata": {},
   "source": [
    "### 9.a"
   ]
  },
  {
   "cell_type": "code",
   "execution_count": 25,
   "id": "efdb5ad3",
   "metadata": {},
   "outputs": [],
   "source": [
    "X = oj.drop(['Purchase_CH'], axis=1)\n",
    "y = oj.Purchase_CH\n",
    "\n",
    "X_train, X_test, y_train, y_test = train_test_split(X, y, train_size=800, random_state=1)"
   ]
  },
  {
   "cell_type": "markdown",
   "id": "a7d87034",
   "metadata": {},
   "source": [
    "### 9.b"
   ]
  },
  {
   "cell_type": "code",
   "execution_count": 26,
   "id": "3593d0bd",
   "metadata": {},
   "outputs": [],
   "source": [
    "clf = tree.DecisionTreeClassifier(criterion='gini', splitter='best', random_state=1, min_samples_split=20)\n",
    "clf_est = clf.fit(X_train, y_train)"
   ]
  },
  {
   "cell_type": "code",
   "execution_count": 27,
   "id": "70c897ac",
   "metadata": {},
   "outputs": [
    {
     "data": {
      "text/plain": [
       "<sklearn.metrics._plot.confusion_matrix.ConfusionMatrixDisplay at 0x13ff71b40>"
      ]
     },
     "execution_count": 27,
     "metadata": {},
     "output_type": "execute_result"
    },
    {
     "data": {
      "image/png": "[encoded data removed]",
      "text/plain": [
       "<Figure size 640x480 with 2 Axes>"
      ]
     },
     "metadata": {},
     "output_type": "display_data"
    }
   ],
   "source": [
    "conf_mat = confusion_matrix(y_train, clf_est.predict(X_train), labels=[True, False])\n",
    "disp = ConfusionMatrixDisplay(conf_mat, display_labels=clf_est.classes_)\n",
    "disp.plot()"
   ]
  },
  {
   "cell_type": "code",
   "execution_count": 28,
   "id": "ab669201",
   "metadata": {},
   "outputs": [
    {
     "name": "stdout",
     "output_type": "stream",
     "text": [
      "Training Error Rate:  0.10375\n"
     ]
    }
   ],
   "source": [
    "print('Training Error Rate: ', (conf_mat[0, 1] + conf_mat[1, 0])/conf_mat.sum())"
   ]
  },
  {
   "cell_type": "code",
   "execution_count": 29,
   "id": "8f080eca",
   "metadata": {},
   "outputs": [
    {
     "name": "stdout",
     "output_type": "stream",
     "text": [
      "Number of terminal nodes:  58\n"
     ]
    }
   ],
   "source": [
    "print('Number of terminal nodes: ', clf_est.get_n_leaves())"
   ]
  },
  {
   "cell_type": "markdown",
   "id": "319b44e1",
   "metadata": {},
   "source": [
    "### 9.d"
   ]
  },
  {
   "cell_type": "code",
   "execution_count": null,
   "id": "cce25ca4",
   "metadata": {},
   "outputs": [],
   "source": [
    "dot_data = tree.export_graphviz(clf_est, out_file='tree3.dot', feature_names=X.columns, \n",
    "                               filled=True, rounded=True, special_characters=True)\n",
    "\n",
    "with open('tree3.dot') as f:\n",
    "    dot_graph = f.read()\n",
    "    \n",
    "graph = graphviz.Source(dot_graph, format='png', engine='dot')\n",
    "Image(graph.render())"
   ]
  },
  {
   "cell_type": "markdown",
   "id": "ed54c092",
   "metadata": {},
   "source": [
    "### 9.e"
   ]
  },
  {
   "cell_type": "code",
   "execution_count": 31,
   "id": "84726019",
   "metadata": {},
   "outputs": [
    {
     "data": {
      "text/plain": [
       "<sklearn.metrics._plot.confusion_matrix.ConfusionMatrixDisplay at 0x13ffa6530>"
      ]
     },
     "execution_count": 31,
     "metadata": {},
     "output_type": "execute_result"
    },
    {
     "data": {
      "image/png": "[encoded data removed]",
      "text/plain": [
       "<Figure size 640x480 with 2 Axes>"
      ]
     },
     "metadata": {},
     "output_type": "display_data"
    }
   ],
   "source": [
    "conf_mat = confusion_matrix(y_test, clf_est.predict(X_test), labels=[True, False])\n",
    "disp = ConfusionMatrixDisplay(conf_mat, display_labels=clf_est.classes_)\n",
    "disp.plot()"
   ]
  },
  {
   "cell_type": "code",
   "execution_count": 32,
   "id": "e2384e73",
   "metadata": {},
   "outputs": [
    {
     "name": "stdout",
     "output_type": "stream",
     "text": [
      "Test Error Rate:  0.2222222222222222\n"
     ]
    }
   ],
   "source": [
    "print('Test Error Rate: ', (conf_mat[0, 1] + conf_mat[1, 0])/conf_mat.sum())"
   ]
  },
  {
   "cell_type": "code",
   "execution_count": 33,
   "id": "d6787f94",
   "metadata": {},
   "outputs": [
    {
     "name": "stdout",
     "output_type": "stream",
     "text": [
      "The baseline model error:  0.3897196261682243\n"
     ]
    }
   ],
   "source": [
    "# CH    653\n",
    "# MM    417\n",
    "# The baseline model performance, the model always predicts CH\n",
    "print('The baseline model error: ', 1-(653/1070))"
   ]
  },
  {
   "cell_type": "markdown",
   "id": "f09e7d33",
   "metadata": {},
   "source": [
    "### 9.f-g-h\n",
    "\n",
    "In scikit-learn, there is no direct way to control the size of a classification tree. However, we can achieve a similar effect by controlling the `min_samples_leaf` parameter. By setting `min_samples_leaf` to a higher value, we can enforce a minimum number of samples required to be in each leaf of the tree. This indirectly controls the size of the tree by preventing further splitting when the number of samples in a leaf falls below the specified threshold. By increasing `min_samples_leaf`, we can effectively limit the size of the resulting tree."
   ]
  },
  {
   "cell_type": "code",
   "execution_count": 34,
   "id": "9c90e359",
   "metadata": {},
   "outputs": [
    {
     "data": {
      "text/plain": [
       "Text(0, 0.5, 'CV Error')"
      ]
     },
     "execution_count": 34,
     "metadata": {},
     "output_type": "execute_result"
    },
    {
     "data": {
      "image/png": "[encoded data removed]",
      "text/plain": [
       "<Figure size 800x400 with 1 Axes>"
      ]
     },
     "metadata": {},
     "output_type": "display_data"
    }
   ],
   "source": [
    "cv_errors = []\n",
    "\n",
    "for samples in range(1, 200):\n",
    "    \n",
    "    clf_ = tree.DecisionTreeClassifier(criterion='gini', splitter='best',\n",
    "                                      min_samples_leaf=samples, random_state=1)\n",
    "    \n",
    "    clf_est_ = clf_.fit(X_train, y_train)\n",
    "    \n",
    "    cv_errors.append(np.mean((clf_est_.predict(X_test) - y_test)**2))\n",
    "    \n",
    "fig, ax = plt.subplots(1, 1, figsize=(8, 4))\n",
    "\n",
    "ax.plot(np.arange(1, 200), cv_errors)\n",
    "ax.plot(np.argmin(cv_errors), np.min(cv_errors), marker='x', markersize=10)\n",
    "ax.set_xlabel('Min Samples Leaf')\n",
    "ax.set_ylabel('CV Error')"
   ]
  },
  {
   "cell_type": "markdown",
   "id": "e4370501",
   "metadata": {},
   "source": [
    "### 9.i"
   ]
  },
  {
   "cell_type": "code",
   "execution_count": 35,
   "id": "2c856ccc",
   "metadata": {},
   "outputs": [
    {
     "data": {
      "text/plain": [
       "(17, 0.15925925925925927)"
      ]
     },
     "execution_count": 35,
     "metadata": {},
     "output_type": "execute_result"
    }
   ],
   "source": [
    "np.argmin(cv_errors), np.min(cv_errors)"
   ]
  },
  {
   "cell_type": "code",
   "execution_count": 36,
   "id": "5091fb4d",
   "metadata": {},
   "outputs": [],
   "source": [
    "clf2 = tree.DecisionTreeClassifier(criterion='gini', splitter='best',\n",
    "                                      min_samples_leaf=17, random_state=1)\n",
    "clf_est2 = clf2.fit(X_train, y_train)"
   ]
  },
  {
   "cell_type": "code",
   "execution_count": 37,
   "id": "3c088458",
   "metadata": {},
   "outputs": [
    {
     "name": "stdout",
     "output_type": "stream",
     "text": [
      "Number of terminal nodes:  30\n"
     ]
    }
   ],
   "source": [
    "print('Number of terminal nodes: ', clf_est2.get_n_leaves())"
   ]
  },
  {
   "cell_type": "markdown",
   "id": "af39eb2a",
   "metadata": {},
   "source": [
    "While the previous model has `58 terminal nodes`, the current model has `30 terminal nodes`. So the cross-validation leads to a selection of a pruned tree."
   ]
  },
  {
   "cell_type": "markdown",
   "id": "46773c09",
   "metadata": {},
   "source": [
    "### 9.j"
   ]
  },
  {
   "cell_type": "code",
   "execution_count": 38,
   "id": "6e6b5c4f",
   "metadata": {},
   "outputs": [
    {
     "data": {
      "text/plain": [
       "array([[461,  35],\n",
       "       [ 48, 256]])"
      ]
     },
     "execution_count": 38,
     "metadata": {},
     "output_type": "execute_result"
    }
   ],
   "source": [
    "# Main Model Confusion Matrix\n",
    "conf_mat = confusion_matrix(y_train, clf_est.predict(X_train), labels=[True, False])\n",
    "conf_mat"
   ]
  },
  {
   "cell_type": "code",
   "execution_count": 39,
   "id": "0cc58a29",
   "metadata": {
    "scrolled": true
   },
   "outputs": [
    {
     "name": "stdout",
     "output_type": "stream",
     "text": [
      "Main model training error:  0.10375\n"
     ]
    }
   ],
   "source": [
    "print('Main model training error: ', (conf_mat[0, 1] + conf_mat[1, 0])/ conf_mat.sum())"
   ]
  },
  {
   "cell_type": "code",
   "execution_count": 40,
   "id": "fdf65050",
   "metadata": {},
   "outputs": [
    {
     "data": {
      "text/plain": [
       "array([[433,  63],\n",
       "       [ 54, 250]])"
      ]
     },
     "execution_count": 40,
     "metadata": {},
     "output_type": "execute_result"
    }
   ],
   "source": [
    "# Main Model Confusion Matrix\n",
    "conf_mat2 = confusion_matrix(y_train, clf_est2.predict(X_train), labels=[True, False])\n",
    "conf_mat2"
   ]
  },
  {
   "cell_type": "code",
   "execution_count": 41,
   "id": "43976537",
   "metadata": {},
   "outputs": [
    {
     "name": "stdout",
     "output_type": "stream",
     "text": [
      "Model selected with CV - training error:  0.14625\n"
     ]
    }
   ],
   "source": [
    "print('Model selected with CV - training error: ', (conf_mat2[0, 1] + conf_mat2[1, 0])/ conf_mat2.sum())"
   ]
  },
  {
   "cell_type": "markdown",
   "id": "a3ab0e25",
   "metadata": {},
   "source": [
    "The training error for the pruned classification tree is higher compared to the unpruned tree. This is because pruning reduces the flexibility of the tree by removing certain branches and nodes. The pruning process aims to prevent overfitting by simplifying the tree and reducing its complexity. However, this simplification can result in a loss of predictive power, leading to a higher training error."
   ]
  },
  {
   "cell_type": "markdown",
   "id": "d5928d37",
   "metadata": {},
   "source": [
    "### 9.k"
   ]
  },
  {
   "cell_type": "code",
   "execution_count": 42,
   "id": "2c4f685d",
   "metadata": {},
   "outputs": [
    {
     "data": {
      "text/plain": [
       "array([[131,  26],\n",
       "       [ 34,  79]])"
      ]
     },
     "execution_count": 42,
     "metadata": {},
     "output_type": "execute_result"
    }
   ],
   "source": [
    "conf_mat3 = confusion_matrix(y_test, clf_est.predict(X_test), labels=[True, False])\n",
    "conf_mat3"
   ]
  },
  {
   "cell_type": "code",
   "execution_count": 43,
   "id": "cb0aadae",
   "metadata": {},
   "outputs": [
    {
     "data": {
      "text/plain": [
       "array([[137,  20],\n",
       "       [ 24,  89]])"
      ]
     },
     "execution_count": 43,
     "metadata": {},
     "output_type": "execute_result"
    }
   ],
   "source": [
    "conf_mat4 = confusion_matrix(y_test, clf_est2.predict(X_test), labels=[True, False])\n",
    "conf_mat4"
   ]
  },
  {
   "cell_type": "code",
   "execution_count": 44,
   "id": "a1fbff4c",
   "metadata": {},
   "outputs": [
    {
     "name": "stdout",
     "output_type": "stream",
     "text": [
      "Main model test error:  0.2222222222222222\n"
     ]
    }
   ],
   "source": [
    "print('Main model test error: ', (conf_mat3[0, 1] + conf_mat3[1, 0])/ conf_mat3.sum())"
   ]
  },
  {
   "cell_type": "code",
   "execution_count": 45,
   "id": "d3edf3c4",
   "metadata": {},
   "outputs": [
    {
     "name": "stdout",
     "output_type": "stream",
     "text": [
      "Model selected with CV - test error:  0.16296296296296298\n"
     ]
    }
   ],
   "source": [
    "print('Model selected with CV - test error: ', (conf_mat4[0, 1] + conf_mat4[1, 0])/ conf_mat4.sum())"
   ]
  },
  {
   "cell_type": "markdown",
   "id": "5f2b3c6c",
   "metadata": {},
   "source": [
    "The unpruned tree has a higher test error compared to the pruned tree. The pruning implementation improves the performance of the tree on the test set by reducing overfitting. While the unpruned tree may have a lower training error, it tends to generalize poorly to new, unseen data. In contrast, the pruned tree achieves a better balance between bias and variance, resulting in lower test error and improved generalization performance."
   ]
  },
  {
   "cell_type": "markdown",
   "id": "cb9f6cdd",
   "metadata": {},
   "source": [
    "## Question 10\n",
    "\n",
    "### 10.a-b"
   ]
  },
  {
   "cell_type": "code",
   "execution_count": 46,
   "id": "cc7ec691",
   "metadata": {},
   "outputs": [
    {
     "data": {
      "text/html": [
       "<div>\n",
       "<style scoped>\n",
       "    .dataframe tbody tr th:only-of-type {\n",
       "        vertical-align: middle;\n",
       "    }\n",
       "\n",
       "    .dataframe tbody tr th {\n",
       "        vertical-align: top;\n",
       "    }\n",
       "\n",
       "    .dataframe thead th {\n",
       "        text-align: right;\n",
       "    }\n",
       "</style>\n",
       "<table border=\"1\" class=\"dataframe\">\n",
       "  <thead>\n",
       "    <tr style=\"text-align: right;\">\n",
       "      <th></th>\n",
       "      <th>AtBat</th>\n",
       "      <th>Hits</th>\n",
       "      <th>HmRun</th>\n",
       "      <th>Runs</th>\n",
       "      <th>RBI</th>\n",
       "      <th>Walks</th>\n",
       "      <th>Years</th>\n",
       "      <th>CAtBat</th>\n",
       "      <th>CHits</th>\n",
       "      <th>CHmRun</th>\n",
       "      <th>...</th>\n",
       "      <th>PutOuts</th>\n",
       "      <th>Assists</th>\n",
       "      <th>Errors</th>\n",
       "      <th>Salary</th>\n",
       "      <th>League_A</th>\n",
       "      <th>League_N</th>\n",
       "      <th>Division_E</th>\n",
       "      <th>Division_W</th>\n",
       "      <th>NewLeague_A</th>\n",
       "      <th>NewLeague_N</th>\n",
       "    </tr>\n",
       "  </thead>\n",
       "  <tbody>\n",
       "    <tr>\n",
       "      <th>0</th>\n",
       "      <td>293</td>\n",
       "      <td>66</td>\n",
       "      <td>1</td>\n",
       "      <td>30</td>\n",
       "      <td>29</td>\n",
       "      <td>14</td>\n",
       "      <td>1</td>\n",
       "      <td>293</td>\n",
       "      <td>66</td>\n",
       "      <td>1</td>\n",
       "      <td>...</td>\n",
       "      <td>446</td>\n",
       "      <td>33</td>\n",
       "      <td>20</td>\n",
       "      <td>NaN</td>\n",
       "      <td>1</td>\n",
       "      <td>0</td>\n",
       "      <td>1</td>\n",
       "      <td>0</td>\n",
       "      <td>1</td>\n",
       "      <td>0</td>\n",
       "    </tr>\n",
       "    <tr>\n",
       "      <th>1</th>\n",
       "      <td>315</td>\n",
       "      <td>81</td>\n",
       "      <td>7</td>\n",
       "      <td>24</td>\n",
       "      <td>38</td>\n",
       "      <td>39</td>\n",
       "      <td>14</td>\n",
       "      <td>3449</td>\n",
       "      <td>835</td>\n",
       "      <td>69</td>\n",
       "      <td>...</td>\n",
       "      <td>632</td>\n",
       "      <td>43</td>\n",
       "      <td>10</td>\n",
       "      <td>475.0</td>\n",
       "      <td>0</td>\n",
       "      <td>1</td>\n",
       "      <td>0</td>\n",
       "      <td>1</td>\n",
       "      <td>0</td>\n",
       "      <td>1</td>\n",
       "    </tr>\n",
       "    <tr>\n",
       "      <th>2</th>\n",
       "      <td>479</td>\n",
       "      <td>130</td>\n",
       "      <td>18</td>\n",
       "      <td>66</td>\n",
       "      <td>72</td>\n",
       "      <td>76</td>\n",
       "      <td>3</td>\n",
       "      <td>1624</td>\n",
       "      <td>457</td>\n",
       "      <td>63</td>\n",
       "      <td>...</td>\n",
       "      <td>880</td>\n",
       "      <td>82</td>\n",
       "      <td>14</td>\n",
       "      <td>480.0</td>\n",
       "      <td>1</td>\n",
       "      <td>0</td>\n",
       "      <td>0</td>\n",
       "      <td>1</td>\n",
       "      <td>1</td>\n",
       "      <td>0</td>\n",
       "    </tr>\n",
       "    <tr>\n",
       "      <th>3</th>\n",
       "      <td>496</td>\n",
       "      <td>141</td>\n",
       "      <td>20</td>\n",
       "      <td>65</td>\n",
       "      <td>78</td>\n",
       "      <td>37</td>\n",
       "      <td>11</td>\n",
       "      <td>5628</td>\n",
       "      <td>1575</td>\n",
       "      <td>225</td>\n",
       "      <td>...</td>\n",
       "      <td>200</td>\n",
       "      <td>11</td>\n",
       "      <td>3</td>\n",
       "      <td>500.0</td>\n",
       "      <td>0</td>\n",
       "      <td>1</td>\n",
       "      <td>1</td>\n",
       "      <td>0</td>\n",
       "      <td>0</td>\n",
       "      <td>1</td>\n",
       "    </tr>\n",
       "    <tr>\n",
       "      <th>4</th>\n",
       "      <td>321</td>\n",
       "      <td>87</td>\n",
       "      <td>10</td>\n",
       "      <td>39</td>\n",
       "      <td>42</td>\n",
       "      <td>30</td>\n",
       "      <td>2</td>\n",
       "      <td>396</td>\n",
       "      <td>101</td>\n",
       "      <td>12</td>\n",
       "      <td>...</td>\n",
       "      <td>805</td>\n",
       "      <td>40</td>\n",
       "      <td>4</td>\n",
       "      <td>91.5</td>\n",
       "      <td>0</td>\n",
       "      <td>1</td>\n",
       "      <td>1</td>\n",
       "      <td>0</td>\n",
       "      <td>0</td>\n",
       "      <td>1</td>\n",
       "    </tr>\n",
       "  </tbody>\n",
       "</table>\n",
       "<p>5 rows × 23 columns</p>\n",
       "</div>"
      ],
      "text/plain": [
       "   AtBat  Hits  HmRun  Runs  RBI  Walks  Years  CAtBat  CHits  CHmRun  ...  \\\n",
       "0    293    66      1    30   29     14      1     293     66       1  ...   \n",
       "1    315    81      7    24   38     39     14    3449    835      69  ...   \n",
       "2    479   130     18    66   72     76      3    1624    457      63  ...   \n",
       "3    496   141     20    65   78     37     11    5628   1575     225  ...   \n",
       "4    321    87     10    39   42     30      2     396    101      12  ...   \n",
       "\n",
       "   PutOuts  Assists  Errors  Salary  League_A  League_N  Division_E  \\\n",
       "0      446       33      20     NaN         1         0           1   \n",
       "1      632       43      10   475.0         0         1           0   \n",
       "2      880       82      14   480.0         1         0           0   \n",
       "3      200       11       3   500.0         0         1           1   \n",
       "4      805       40       4    91.5         0         1           1   \n",
       "\n",
       "   Division_W  NewLeague_A  NewLeague_N  \n",
       "0           0            1            0  \n",
       "1           1            0            1  \n",
       "2           1            1            0  \n",
       "3           0            0            1  \n",
       "4           0            0            1  \n",
       "\n",
       "[5 rows x 23 columns]"
      ]
     },
     "execution_count": 46,
     "metadata": {},
     "output_type": "execute_result"
    }
   ],
   "source": [
    "hitters = pd.read_csv('../../data/hitters.csv')\n",
    "hitters = pd.get_dummies(hitters, ['League', 'Division', 'NewLeague'])\n",
    "hitters.head()"
   ]
  },
  {
   "cell_type": "code",
   "execution_count": 47,
   "id": "4cd613af",
   "metadata": {},
   "outputs": [
    {
     "data": {
      "text/plain": [
       "AtBat          False\n",
       "Hits           False\n",
       "HmRun          False\n",
       "Runs           False\n",
       "RBI            False\n",
       "Walks          False\n",
       "Years          False\n",
       "CAtBat         False\n",
       "CHits          False\n",
       "CHmRun         False\n",
       "CRuns          False\n",
       "CRBI           False\n",
       "CWalks         False\n",
       "PutOuts        False\n",
       "Assists        False\n",
       "Errors         False\n",
       "Salary          True\n",
       "League_A       False\n",
       "League_N       False\n",
       "Division_E     False\n",
       "Division_W     False\n",
       "NewLeague_A    False\n",
       "NewLeague_N    False\n",
       "dtype: bool"
      ]
     },
     "execution_count": 47,
     "metadata": {},
     "output_type": "execute_result"
    }
   ],
   "source": [
    "hitters.isna().any()"
   ]
  },
  {
   "cell_type": "code",
   "execution_count": 48,
   "id": "dfd74e0e",
   "metadata": {},
   "outputs": [
    {
     "data": {
      "text/plain": [
       "AtBat          False\n",
       "Hits           False\n",
       "HmRun          False\n",
       "Runs           False\n",
       "RBI            False\n",
       "Walks          False\n",
       "Years          False\n",
       "CAtBat         False\n",
       "CHits          False\n",
       "CHmRun         False\n",
       "CRuns          False\n",
       "CRBI           False\n",
       "CWalks         False\n",
       "PutOuts        False\n",
       "Assists        False\n",
       "Errors         False\n",
       "Salary         False\n",
       "League_A       False\n",
       "League_N       False\n",
       "Division_E     False\n",
       "Division_W     False\n",
       "NewLeague_A    False\n",
       "NewLeague_N    False\n",
       "dtype: bool"
      ]
     },
     "execution_count": 48,
     "metadata": {},
     "output_type": "execute_result"
    }
   ],
   "source": [
    "hitters.dropna(axis=0, inplace=True)\n",
    "hitters.isna().any()"
   ]
  },
  {
   "cell_type": "code",
   "execution_count": 49,
   "id": "4887194e",
   "metadata": {},
   "outputs": [],
   "source": [
    "X = hitters.drop(['Salary'], axis=1)\n",
    "y = np.log(hitters.Salary)\n",
    "\n",
    "X_train, X_test, y_train, y_test = train_test_split(X, y, train_size=200, random_state=1)"
   ]
  },
  {
   "cell_type": "markdown",
   "id": "d69ad27e",
   "metadata": {},
   "source": [
    "### 10.c"
   ]
  },
  {
   "cell_type": "code",
   "execution_count": 50,
   "id": "fbc06c9b",
   "metadata": {},
   "outputs": [],
   "source": [
    "from sklearn.ensemble import GradientBoostingRegressor\n",
    "\n",
    "learning_rates = np.linspace(.001,.1, 20)\n",
    "train_errs = []\n",
    "test_errs = []\n",
    "\n",
    "for rate in learning_rates:\n",
    "    boosting_est = GradientBoostingRegressor(loss='squared_error', learning_rate=rate, n_estimators=1000,\n",
    "                                        max_depth=1, random_state=1).fit(X_train, y_train)\n",
    "    \n",
    "    train_errs.append(np.mean((boosting_est.predict(X_train) - y_train)**2))\n",
    "    test_errs.append(np.mean((boosting_est.predict(X_test) - y_test)**2))"
   ]
  },
  {
   "cell_type": "code",
   "execution_count": 51,
   "id": "c51aa223",
   "metadata": {},
   "outputs": [
    {
     "data": {
      "text/plain": [
       "Text(0, 0.5, 'Training Errors')"
      ]
     },
     "execution_count": 51,
     "metadata": {},
     "output_type": "execute_result"
    },
    {
     "data": {
      "image/png": "[encoded data removed]",
      "text/plain": [
       "<Figure size 800x400 with 1 Axes>"
      ]
     },
     "metadata": {},
     "output_type": "display_data"
    }
   ],
   "source": [
    "fig, ax = plt.subplots(1, 1, figsize=(8, 4))\n",
    "\n",
    "ax.plot(learning_rates, train_errs)\n",
    "ax.set_xlabel('Learning Rates')\n",
    "ax.set_ylabel('Training Errors')"
   ]
  },
  {
   "cell_type": "markdown",
   "id": "079c01e2",
   "metadata": {},
   "source": [
    "### 10.d"
   ]
  },
  {
   "cell_type": "code",
   "execution_count": 52,
   "id": "b6fc9799",
   "metadata": {
    "scrolled": false
   },
   "outputs": [
    {
     "data": {
      "text/plain": [
       "Text(0, 0.5, 'Test Errors')"
      ]
     },
     "execution_count": 52,
     "metadata": {},
     "output_type": "execute_result"
    },
    {
     "data": {
      "image/png": "[encoded data removed]",
      "text/plain": [
       "<Figure size 800x400 with 1 Axes>"
      ]
     },
     "metadata": {},
     "output_type": "display_data"
    }
   ],
   "source": [
    "fig, ax = plt.subplots(1, 1, figsize=(8, 4))\n",
    "\n",
    "ax.plot(learning_rates, test_errs)\n",
    "ax.set_xlabel('Learning Rates')\n",
    "ax.set_ylabel('Test Errors')"
   ]
  },
  {
   "cell_type": "code",
   "execution_count": 53,
   "id": "a4cd142d",
   "metadata": {},
   "outputs": [
    {
     "data": {
      "text/plain": [
       "(17, 0.21524013367505257)"
      ]
     },
     "execution_count": 53,
     "metadata": {},
     "output_type": "execute_result"
    }
   ],
   "source": [
    "# The best test error\n",
    "np.argmin(test_errs), np.min(test_errs)"
   ]
  },
  {
   "cell_type": "markdown",
   "id": "ca7012c2",
   "metadata": {},
   "source": [
    "### 10.e"
   ]
  },
  {
   "cell_type": "code",
   "execution_count": 54,
   "id": "1878bedc",
   "metadata": {},
   "outputs": [
    {
     "name": "stdout",
     "output_type": "stream",
     "text": [
      "Multiple Linaer Regression Test Error:  0.45263888847266043\n"
     ]
    }
   ],
   "source": [
    "from sklearn.linear_model import LinearRegression\n",
    "\n",
    "lr = LinearRegression(fit_intercept=True)\n",
    "lr_est = lr.fit(X_train, y_train)\n",
    "\n",
    "print('Multiple Linaer Regression Test Error: ', np.mean((y_test - lr.predict(X_test))**2))"
   ]
  },
  {
   "cell_type": "code",
   "execution_count": 55,
   "id": "25901403",
   "metadata": {},
   "outputs": [],
   "source": [
    "from sklearn.preprocessing import StandardScaler\n",
    "\n",
    "scaler = StandardScaler()\n",
    "X_ = scaler.fit_transform(X)"
   ]
  },
  {
   "cell_type": "code",
   "execution_count": 56,
   "id": "78eff3eb",
   "metadata": {},
   "outputs": [],
   "source": [
    "from sklearn.linear_model import LassoCV, Lasso\n",
    "\n",
    "alphas = 10**np.linspace(-3, 1, 100)\n",
    "lassocv = LassoCV(alphas=alphas, cv=10, max_iter=10000).fit(X_, y)"
   ]
  },
  {
   "cell_type": "code",
   "execution_count": 57,
   "id": "b1bf2c66",
   "metadata": {},
   "outputs": [
    {
     "name": "stdout",
     "output_type": "stream",
     "text": [
      "The optimal value of alpha:  0.01788649529057435\n"
     ]
    }
   ],
   "source": [
    "print('The optimal value of alpha: ', lassocv.alpha_)"
   ]
  },
  {
   "cell_type": "code",
   "execution_count": 58,
   "id": "4f7636bb",
   "metadata": {},
   "outputs": [
    {
     "name": "stdout",
     "output_type": "stream",
     "text": [
      "The Lasso Test Error:  0.46764932393541075\n"
     ]
    }
   ],
   "source": [
    "lasso = Lasso(alpha=lassocv.alpha_, max_iter=10000)\n",
    "lasso.fit(X_train, y_train)\n",
    "\n",
    "print('The Lasso Test Error: ', np.mean((y_test - lasso.predict(X_test))**2))"
   ]
  },
  {
   "cell_type": "markdown",
   "id": "00eb0ff6",
   "metadata": {},
   "source": [
    "Based on the test error results, the boosting tree method demonstrates better performance compared to the multiple linear regression and lasso methods. The boosting tree method is able to effectively handle complex relationships and interactions among variables, which can result in improved predictive accuracy. It is important to note that the relative performance of these methods may vary depending on the specific dataset and problem at hand."
   ]
  },
  {
   "cell_type": "markdown",
   "id": "8025ad7d",
   "metadata": {},
   "source": [
    "### 10.f"
   ]
  },
  {
   "cell_type": "code",
   "execution_count": 59,
   "id": "af7baf4e",
   "metadata": {},
   "outputs": [
    {
     "data": {
      "text/html": [
       "<div>\n",
       "<style scoped>\n",
       "    .dataframe tbody tr th:only-of-type {\n",
       "        vertical-align: middle;\n",
       "    }\n",
       "\n",
       "    .dataframe tbody tr th {\n",
       "        vertical-align: top;\n",
       "    }\n",
       "\n",
       "    .dataframe thead th {\n",
       "        text-align: right;\n",
       "    }\n",
       "</style>\n",
       "<table border=\"1\" class=\"dataframe\">\n",
       "  <thead>\n",
       "    <tr style=\"text-align: right;\">\n",
       "      <th></th>\n",
       "      <th>Importances</th>\n",
       "    </tr>\n",
       "  </thead>\n",
       "  <tbody>\n",
       "    <tr>\n",
       "      <th>CAtBat</th>\n",
       "      <td>0.342016</td>\n",
       "    </tr>\n",
       "    <tr>\n",
       "      <th>CHits</th>\n",
       "      <td>0.154742</td>\n",
       "    </tr>\n",
       "    <tr>\n",
       "      <th>CHmRun</th>\n",
       "      <td>0.097500</td>\n",
       "    </tr>\n",
       "    <tr>\n",
       "      <th>Years</th>\n",
       "      <td>0.071202</td>\n",
       "    </tr>\n",
       "    <tr>\n",
       "      <th>Hits</th>\n",
       "      <td>0.066466</td>\n",
       "    </tr>\n",
       "    <tr>\n",
       "      <th>CRuns</th>\n",
       "      <td>0.063560</td>\n",
       "    </tr>\n",
       "    <tr>\n",
       "      <th>CWalks</th>\n",
       "      <td>0.063143</td>\n",
       "    </tr>\n",
       "    <tr>\n",
       "      <th>RBI</th>\n",
       "      <td>0.031201</td>\n",
       "    </tr>\n",
       "    <tr>\n",
       "      <th>Walks</th>\n",
       "      <td>0.022251</td>\n",
       "    </tr>\n",
       "    <tr>\n",
       "      <th>PutOuts</th>\n",
       "      <td>0.021109</td>\n",
       "    </tr>\n",
       "    <tr>\n",
       "      <th>Runs</th>\n",
       "      <td>0.018989</td>\n",
       "    </tr>\n",
       "    <tr>\n",
       "      <th>AtBat</th>\n",
       "      <td>0.018762</td>\n",
       "    </tr>\n",
       "    <tr>\n",
       "      <th>CRBI</th>\n",
       "      <td>0.011936</td>\n",
       "    </tr>\n",
       "    <tr>\n",
       "      <th>HmRun</th>\n",
       "      <td>0.007274</td>\n",
       "    </tr>\n",
       "    <tr>\n",
       "      <th>Assists</th>\n",
       "      <td>0.003792</td>\n",
       "    </tr>\n",
       "    <tr>\n",
       "      <th>Errors</th>\n",
       "      <td>0.002592</td>\n",
       "    </tr>\n",
       "    <tr>\n",
       "      <th>NewLeague_A</th>\n",
       "      <td>0.001866</td>\n",
       "    </tr>\n",
       "    <tr>\n",
       "      <th>NewLeague_N</th>\n",
       "      <td>0.000660</td>\n",
       "    </tr>\n",
       "    <tr>\n",
       "      <th>Division_W</th>\n",
       "      <td>0.000545</td>\n",
       "    </tr>\n",
       "    <tr>\n",
       "      <th>Division_E</th>\n",
       "      <td>0.000394</td>\n",
       "    </tr>\n",
       "    <tr>\n",
       "      <th>League_A</th>\n",
       "      <td>0.000000</td>\n",
       "    </tr>\n",
       "    <tr>\n",
       "      <th>League_N</th>\n",
       "      <td>0.000000</td>\n",
       "    </tr>\n",
       "  </tbody>\n",
       "</table>\n",
       "</div>"
      ],
      "text/plain": [
       "             Importances\n",
       "CAtBat          0.342016\n",
       "CHits           0.154742\n",
       "CHmRun          0.097500\n",
       "Years           0.071202\n",
       "Hits            0.066466\n",
       "CRuns           0.063560\n",
       "CWalks          0.063143\n",
       "RBI             0.031201\n",
       "Walks           0.022251\n",
       "PutOuts         0.021109\n",
       "Runs            0.018989\n",
       "AtBat           0.018762\n",
       "CRBI            0.011936\n",
       "HmRun           0.007274\n",
       "Assists         0.003792\n",
       "Errors          0.002592\n",
       "NewLeague_A     0.001866\n",
       "NewLeague_N     0.000660\n",
       "Division_W      0.000545\n",
       "Division_E      0.000394\n",
       "League_A        0.000000\n",
       "League_N        0.000000"
      ]
     },
     "execution_count": 59,
     "metadata": {},
     "output_type": "execute_result"
    }
   ],
   "source": [
    "boosting_est = GradientBoostingRegressor(loss='squared_error', learning_rate=learning_rates[np.argmin(test_errs)],\n",
    "                                        n_estimators=1000, max_depth=1, random_state=1).fit(X_train, y_train)\n",
    "\n",
    "ftr_imp = pd.DataFrame(boosting_est.feature_importances_, index=X.columns, columns=['Importances'])\n",
    "ftr_imp = ftr_imp.sort_values(axis=0, ascending=False, by='Importances')\n",
    "ftr_imp"
   ]
  },
  {
   "cell_type": "markdown",
   "id": "6abc0e42",
   "metadata": {},
   "source": [
    "### 10.g"
   ]
  },
  {
   "cell_type": "code",
   "execution_count": 60,
   "id": "e215427f",
   "metadata": {},
   "outputs": [],
   "source": [
    "bagger = BaggingRegressor(n_estimators=500, max_features=X_train.shape[1],\n",
    "                         bootstrap=True, oob_score=True, random_state=1)\n",
    "\n",
    "bagger_est = bagger.fit(X_train, y_train)"
   ]
  },
  {
   "cell_type": "code",
   "execution_count": 61,
   "id": "169893c8",
   "metadata": {},
   "outputs": [
    {
     "name": "stdout",
     "output_type": "stream",
     "text": [
      "Bagging method Test Error:  0.24736640022010836\n"
     ]
    }
   ],
   "source": [
    "print('Bagging method Test Error: ', np.mean((y_test - bagger_est.predict(X_test))**2))"
   ]
  },
  {
   "cell_type": "markdown",
   "id": "0cc03ee8",
   "metadata": {},
   "source": [
    "## Question 11\n",
    "\n",
    "### 11.a"
   ]
  },
  {
   "cell_type": "code",
   "execution_count": 62,
   "id": "93be186e",
   "metadata": {},
   "outputs": [
    {
     "data": {
      "text/html": [
       "<div>\n",
       "<style scoped>\n",
       "    .dataframe tbody tr th:only-of-type {\n",
       "        vertical-align: middle;\n",
       "    }\n",
       "\n",
       "    .dataframe tbody tr th {\n",
       "        vertical-align: top;\n",
       "    }\n",
       "\n",
       "    .dataframe thead th {\n",
       "        text-align: right;\n",
       "    }\n",
       "</style>\n",
       "<table border=\"1\" class=\"dataframe\">\n",
       "  <thead>\n",
       "    <tr style=\"text-align: right;\">\n",
       "      <th></th>\n",
       "      <th>MOSTYPE</th>\n",
       "      <th>MAANTHUI</th>\n",
       "      <th>MGEMOMV</th>\n",
       "      <th>MGEMLEEF</th>\n",
       "      <th>MOSHOOFD</th>\n",
       "      <th>MGODRK</th>\n",
       "      <th>MGODPR</th>\n",
       "      <th>MGODOV</th>\n",
       "      <th>MGODGE</th>\n",
       "      <th>MRELGE</th>\n",
       "      <th>...</th>\n",
       "      <th>APERSONG</th>\n",
       "      <th>AGEZONG</th>\n",
       "      <th>AWAOREG</th>\n",
       "      <th>ABRAND</th>\n",
       "      <th>AZEILPL</th>\n",
       "      <th>APLEZIER</th>\n",
       "      <th>AFIETS</th>\n",
       "      <th>AINBOED</th>\n",
       "      <th>ABYSTAND</th>\n",
       "      <th>Purchase</th>\n",
       "    </tr>\n",
       "  </thead>\n",
       "  <tbody>\n",
       "    <tr>\n",
       "      <th>0</th>\n",
       "      <td>33</td>\n",
       "      <td>1</td>\n",
       "      <td>3</td>\n",
       "      <td>2</td>\n",
       "      <td>8</td>\n",
       "      <td>0</td>\n",
       "      <td>5</td>\n",
       "      <td>1</td>\n",
       "      <td>3</td>\n",
       "      <td>7</td>\n",
       "      <td>...</td>\n",
       "      <td>0</td>\n",
       "      <td>0</td>\n",
       "      <td>0</td>\n",
       "      <td>1</td>\n",
       "      <td>0</td>\n",
       "      <td>0</td>\n",
       "      <td>0</td>\n",
       "      <td>0</td>\n",
       "      <td>0</td>\n",
       "      <td>No</td>\n",
       "    </tr>\n",
       "    <tr>\n",
       "      <th>1</th>\n",
       "      <td>37</td>\n",
       "      <td>1</td>\n",
       "      <td>2</td>\n",
       "      <td>2</td>\n",
       "      <td>8</td>\n",
       "      <td>1</td>\n",
       "      <td>4</td>\n",
       "      <td>1</td>\n",
       "      <td>4</td>\n",
       "      <td>6</td>\n",
       "      <td>...</td>\n",
       "      <td>0</td>\n",
       "      <td>0</td>\n",
       "      <td>0</td>\n",
       "      <td>1</td>\n",
       "      <td>0</td>\n",
       "      <td>0</td>\n",
       "      <td>0</td>\n",
       "      <td>0</td>\n",
       "      <td>0</td>\n",
       "      <td>No</td>\n",
       "    </tr>\n",
       "    <tr>\n",
       "      <th>2</th>\n",
       "      <td>37</td>\n",
       "      <td>1</td>\n",
       "      <td>2</td>\n",
       "      <td>2</td>\n",
       "      <td>8</td>\n",
       "      <td>0</td>\n",
       "      <td>4</td>\n",
       "      <td>2</td>\n",
       "      <td>4</td>\n",
       "      <td>3</td>\n",
       "      <td>...</td>\n",
       "      <td>0</td>\n",
       "      <td>0</td>\n",
       "      <td>0</td>\n",
       "      <td>1</td>\n",
       "      <td>0</td>\n",
       "      <td>0</td>\n",
       "      <td>0</td>\n",
       "      <td>0</td>\n",
       "      <td>0</td>\n",
       "      <td>No</td>\n",
       "    </tr>\n",
       "    <tr>\n",
       "      <th>3</th>\n",
       "      <td>9</td>\n",
       "      <td>1</td>\n",
       "      <td>3</td>\n",
       "      <td>3</td>\n",
       "      <td>3</td>\n",
       "      <td>2</td>\n",
       "      <td>3</td>\n",
       "      <td>2</td>\n",
       "      <td>4</td>\n",
       "      <td>5</td>\n",
       "      <td>...</td>\n",
       "      <td>0</td>\n",
       "      <td>0</td>\n",
       "      <td>0</td>\n",
       "      <td>1</td>\n",
       "      <td>0</td>\n",
       "      <td>0</td>\n",
       "      <td>0</td>\n",
       "      <td>0</td>\n",
       "      <td>0</td>\n",
       "      <td>No</td>\n",
       "    </tr>\n",
       "    <tr>\n",
       "      <th>4</th>\n",
       "      <td>40</td>\n",
       "      <td>1</td>\n",
       "      <td>4</td>\n",
       "      <td>2</td>\n",
       "      <td>10</td>\n",
       "      <td>1</td>\n",
       "      <td>4</td>\n",
       "      <td>1</td>\n",
       "      <td>4</td>\n",
       "      <td>7</td>\n",
       "      <td>...</td>\n",
       "      <td>0</td>\n",
       "      <td>0</td>\n",
       "      <td>0</td>\n",
       "      <td>1</td>\n",
       "      <td>0</td>\n",
       "      <td>0</td>\n",
       "      <td>0</td>\n",
       "      <td>0</td>\n",
       "      <td>0</td>\n",
       "      <td>No</td>\n",
       "    </tr>\n",
       "  </tbody>\n",
       "</table>\n",
       "<p>5 rows × 86 columns</p>\n",
       "</div>"
      ],
      "text/plain": [
       "   MOSTYPE  MAANTHUI  MGEMOMV  MGEMLEEF  MOSHOOFD  MGODRK  MGODPR  MGODOV  \\\n",
       "0       33         1        3         2         8       0       5       1   \n",
       "1       37         1        2         2         8       1       4       1   \n",
       "2       37         1        2         2         8       0       4       2   \n",
       "3        9         1        3         3         3       2       3       2   \n",
       "4       40         1        4         2        10       1       4       1   \n",
       "\n",
       "   MGODGE  MRELGE  ...  APERSONG  AGEZONG  AWAOREG  ABRAND  AZEILPL  APLEZIER  \\\n",
       "0       3       7  ...         0        0        0       1        0         0   \n",
       "1       4       6  ...         0        0        0       1        0         0   \n",
       "2       4       3  ...         0        0        0       1        0         0   \n",
       "3       4       5  ...         0        0        0       1        0         0   \n",
       "4       4       7  ...         0        0        0       1        0         0   \n",
       "\n",
       "   AFIETS  AINBOED  ABYSTAND  Purchase  \n",
       "0       0        0         0        No  \n",
       "1       0        0         0        No  \n",
       "2       0        0         0        No  \n",
       "3       0        0         0        No  \n",
       "4       0        0         0        No  \n",
       "\n",
       "[5 rows x 86 columns]"
      ]
     },
     "execution_count": 62,
     "metadata": {},
     "output_type": "execute_result"
    }
   ],
   "source": [
    "caravan = pd.read_csv('../../data/caravan.csv')\n",
    "caravan.head()"
   ]
  },
  {
   "cell_type": "code",
   "execution_count": 63,
   "id": "a73d2abe",
   "metadata": {},
   "outputs": [],
   "source": [
    "X = caravan.drop(['Purchase'], axis=1)\n",
    "y = caravan.Purchase\n",
    "X_train, X_test, y_train, y_test = train_test_split(X, y, train_size=1000, random_state=1)"
   ]
  },
  {
   "cell_type": "markdown",
   "id": "d1159c90",
   "metadata": {},
   "source": [
    "### 11.b"
   ]
  },
  {
   "cell_type": "code",
   "execution_count": 64,
   "id": "4f7954b9",
   "metadata": {},
   "outputs": [],
   "source": [
    "from sklearn.ensemble import GradientBoostingClassifier\n",
    "\n",
    "boosting = GradientBoostingClassifier(learning_rate=0.01, n_estimators=1000, max_depth=4,\n",
    "                                      random_state=1).fit(X_train, y_train)\n",
    "\n",
    "boosting_est = boosting.fit(X_train, y_train)"
   ]
  },
  {
   "cell_type": "code",
   "execution_count": 65,
   "id": "5472f718",
   "metadata": {},
   "outputs": [
    {
     "data": {
      "text/html": [
       "<div>\n",
       "<style scoped>\n",
       "    .dataframe tbody tr th:only-of-type {\n",
       "        vertical-align: middle;\n",
       "    }\n",
       "\n",
       "    .dataframe tbody tr th {\n",
       "        vertical-align: top;\n",
       "    }\n",
       "\n",
       "    .dataframe thead th {\n",
       "        text-align: right;\n",
       "    }\n",
       "</style>\n",
       "<table border=\"1\" class=\"dataframe\">\n",
       "  <thead>\n",
       "    <tr style=\"text-align: right;\">\n",
       "      <th></th>\n",
       "      <th>Importances</th>\n",
       "    </tr>\n",
       "  </thead>\n",
       "  <tbody>\n",
       "    <tr>\n",
       "      <th>PPERSAUT</th>\n",
       "      <td>0.050386</td>\n",
       "    </tr>\n",
       "    <tr>\n",
       "      <th>MBERMIDD</th>\n",
       "      <td>0.043298</td>\n",
       "    </tr>\n",
       "    <tr>\n",
       "      <th>AFIETS</th>\n",
       "      <td>0.043082</td>\n",
       "    </tr>\n",
       "    <tr>\n",
       "      <th>MGODOV</th>\n",
       "      <td>0.039407</td>\n",
       "    </tr>\n",
       "    <tr>\n",
       "      <th>MINK3045</th>\n",
       "      <td>0.036786</td>\n",
       "    </tr>\n",
       "    <tr>\n",
       "      <th>MGODPR</th>\n",
       "      <td>0.031660</td>\n",
       "    </tr>\n",
       "    <tr>\n",
       "      <th>MSKC</th>\n",
       "      <td>0.031638</td>\n",
       "    </tr>\n",
       "    <tr>\n",
       "      <th>APLEZIER</th>\n",
       "      <td>0.030369</td>\n",
       "    </tr>\n",
       "    <tr>\n",
       "      <th>MFGEKIND</th>\n",
       "      <td>0.029569</td>\n",
       "    </tr>\n",
       "    <tr>\n",
       "      <th>MBERARBG</th>\n",
       "      <td>0.027990</td>\n",
       "    </tr>\n",
       "  </tbody>\n",
       "</table>\n",
       "</div>"
      ],
      "text/plain": [
       "          Importances\n",
       "PPERSAUT     0.050386\n",
       "MBERMIDD     0.043298\n",
       "AFIETS       0.043082\n",
       "MGODOV       0.039407\n",
       "MINK3045     0.036786\n",
       "MGODPR       0.031660\n",
       "MSKC         0.031638\n",
       "APLEZIER     0.030369\n",
       "MFGEKIND     0.029569\n",
       "MBERARBG     0.027990"
      ]
     },
     "execution_count": 65,
     "metadata": {},
     "output_type": "execute_result"
    }
   ],
   "source": [
    "ftr_imp = pd.DataFrame(boosting_est.feature_importances_, index=X.columns, columns=['Importances'])\n",
    "ftr_imp = ftr_imp.sort_values(axis=0, ascending=False, by='Importances')\n",
    "ftr_imp.head(10)"
   ]
  },
  {
   "cell_type": "markdown",
   "id": "e7d7086a",
   "metadata": {},
   "source": [
    "### 11.c"
   ]
  },
  {
   "cell_type": "code",
   "execution_count": 66,
   "id": "d1c312f2",
   "metadata": {},
   "outputs": [],
   "source": [
    "y_pred = boosting_est.predict_proba(X_test)\n",
    "y_pred = ['No' if row[1] < 0.2 else 'Yes' for row in y_pred]"
   ]
  },
  {
   "cell_type": "code",
   "execution_count": 67,
   "id": "f298519f",
   "metadata": {},
   "outputs": [
    {
     "data": {
      "text/plain": [
       "<sklearn.metrics._plot.confusion_matrix.ConfusionMatrixDisplay at 0x14fa487c0>"
      ]
     },
     "execution_count": 67,
     "metadata": {},
     "output_type": "execute_result"
    },
    {
     "data": {
      "image/png": "[encoded data removed]",
      "text/plain": [
       "<Figure size 640x480 with 2 Axes>"
      ]
     },
     "metadata": {},
     "output_type": "display_data"
    }
   ],
   "source": [
    "conf_mat = confusion_matrix(y_test, y_pred, labels=['No', 'Yes'])\n",
    "disp = ConfusionMatrixDisplay(conf_mat)\n",
    "disp.plot()"
   ]
  },
  {
   "cell_type": "code",
   "execution_count": 68,
   "id": "947b290a",
   "metadata": {},
   "outputs": [
    {
     "name": "stdout",
     "output_type": "stream",
     "text": [
      "Fraction of the people predicted to make a purchase do in fact make one:  0.17708333333333334\n"
     ]
    }
   ],
   "source": [
    "print('Fraction of the people predicted to make a purchase do in fact make one: ', conf_mat[1,1]/(conf_mat[0,1] + conf_mat[1,1]))"
   ]
  },
  {
   "cell_type": "markdown",
   "id": "c67c53d2",
   "metadata": {},
   "source": [
    "Out of the predicted purchases, approximately 17% of them actually result in a purchase."
   ]
  },
  {
   "cell_type": "code",
   "execution_count": 69,
   "id": "4c6f1e52",
   "metadata": {},
   "outputs": [],
   "source": [
    "# Logistic Regression\n",
    "from sklearn.linear_model import LogisticRegression\n",
    "\n",
    "scaler = StandardScaler()\n",
    "X_train_ = scaler.fit_transform(X_train)\n",
    "\n",
    "logit = LogisticRegression(fit_intercept=True,)\n",
    "logit_est = logit.fit(X_train_, y_train)"
   ]
  },
  {
   "cell_type": "code",
   "execution_count": 70,
   "id": "8061ac17",
   "metadata": {},
   "outputs": [],
   "source": [
    "y_pred2 = logit_est.predict_proba(scaler.transform(X_test))\n",
    "y_pred2 = ['No' if row[1] < 0.2 else 'Yes' for row in y_pred2]"
   ]
  },
  {
   "cell_type": "code",
   "execution_count": 71,
   "id": "93588bfc",
   "metadata": {},
   "outputs": [
    {
     "data": {
      "text/plain": [
       "<sklearn.metrics._plot.confusion_matrix.ConfusionMatrixDisplay at 0x14f826350>"
      ]
     },
     "execution_count": 71,
     "metadata": {},
     "output_type": "execute_result"
    },
    {
     "data": {
      "image/png": "[encoded data removed]",
      "text/plain": [
       "<Figure size 640x480 with 2 Axes>"
      ]
     },
     "metadata": {},
     "output_type": "display_data"
    }
   ],
   "source": [
    "conf_mat = confusion_matrix(y_test, y_pred2, labels=['No', 'Yes'])\n",
    "disp = ConfusionMatrixDisplay(conf_mat)\n",
    "disp.plot()"
   ]
  },
  {
   "cell_type": "code",
   "execution_count": 72,
   "id": "d0ff7aae",
   "metadata": {},
   "outputs": [
    {
     "name": "stdout",
     "output_type": "stream",
     "text": [
      "Fraction of the people predicted to make a purchase do in fact make one:  0.1661721068249258\n"
     ]
    }
   ],
   "source": [
    "print('Fraction of the people predicted to make a purchase do in fact make one: ', conf_mat[1,1]/(conf_mat[0, 1] + conf_mat[1,1]))"
   ]
  },
  {
   "cell_type": "markdown",
   "id": "bdf2364c",
   "metadata": {},
   "source": [
    "The boosting tree model captures a slightly higher percentage of people who make a purchase, approximately 17%."
   ]
  },
  {
   "cell_type": "code",
   "execution_count": 73,
   "id": "f69320f3",
   "metadata": {},
   "outputs": [],
   "source": [
    "# KNN Classifier\n",
    "from sklearn.neighbors import KNeighborsClassifier\n",
    "\n",
    "knn_est = KNeighborsClassifier(n_neighbors=5).fit(X_train, y_train)\n",
    "y_pred3 = knn_est.predict_proba(X_test)\n",
    "y_pred3 = ['No' if row[1] < 0.2 else 'Yes' for row in y_pred3]"
   ]
  },
  {
   "cell_type": "code",
   "execution_count": 74,
   "id": "a3d6c92b",
   "metadata": {},
   "outputs": [
    {
     "data": {
      "text/plain": [
       "<sklearn.metrics._plot.confusion_matrix.ConfusionMatrixDisplay at 0x14fa4bdf0>"
      ]
     },
     "execution_count": 74,
     "metadata": {},
     "output_type": "execute_result"
    },
    {
     "data": {
      "image/png": "[encoded data removed]",
      "text/plain": [
       "<Figure size 640x480 with 2 Axes>"
      ]
     },
     "metadata": {},
     "output_type": "display_data"
    }
   ],
   "source": [
    "conf_mat = confusion_matrix(y_test, y_pred3, labels=['No', 'Yes'])\n",
    "disp = ConfusionMatrixDisplay(conf_mat)\n",
    "disp.plot()"
   ]
  },
  {
   "cell_type": "code",
   "execution_count": 75,
   "id": "1071fa6d",
   "metadata": {},
   "outputs": [
    {
     "name": "stdout",
     "output_type": "stream",
     "text": [
      "Fraction of the people predicted to make a purchase do in fact make one:  0.09714285714285714\n"
     ]
    }
   ],
   "source": [
    "print('Fraction of the people predicted to make a purchase do in fact make one: ', conf_mat[1,1]/(conf_mat[0,1] + conf_mat[1,1]))"
   ]
  },
  {
   "cell_type": "markdown",
   "id": "df8bd8e2",
   "metadata": {},
   "source": [
    "The boosting tree model outperforms the KNN classifier method by approximately twice as much."
   ]
  },
  {
   "cell_type": "code",
   "execution_count": null,
   "id": "d1e720d1",
   "metadata": {},
   "outputs": [],
   "source": []
  }
 ],
 "metadata": {
  "kernelspec": {
   "display_name": "Python 3 (ipykernel)",
   "language": "python",
   "name": "python3"
  },
  "language_info": {
   "codemirror_mode": {
    "name": "ipython",
    "version": 3
   },
   "file_extension": ".py",
   "mimetype": "text/x-python",
   "name": "python",
   "nbconvert_exporter": "python",
   "pygments_lexer": "ipython3",
   "version": "3.10.10"
  }
 },
 "nbformat": 4,
 "nbformat_minor": 5
}
